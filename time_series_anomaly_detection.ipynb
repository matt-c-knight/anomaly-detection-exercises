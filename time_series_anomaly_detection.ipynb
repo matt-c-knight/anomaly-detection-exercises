{
 "cells": [
  {
   "cell_type": "code",
   "execution_count": 1,
   "metadata": {},
   "outputs": [],
   "source": [
    "import numpy as np\n",
    "import pandas as pd\n",
    "import math\n",
    "from sklearn import metrics\n",
    "\n",
    "from scipy.stats import entropy\n",
    "\n",
    "import warnings\n",
    "warnings.filterwarnings(\"ignore\")\n",
    "import matplotlib.pyplot as plt\n",
    "import matplotlib.dates as mdates #to format dates on our plots\n",
    "%matplotlib inline\n",
    "import seaborn as sns"
   ]
  },
  {
   "cell_type": "code",
   "execution_count": 2,
   "metadata": {},
   "outputs": [],
   "source": [
    "# This is to make sure matplotlib doesn't throw the following error:\n",
    "# The next line fixes \"TypeError: float() argument must be a string or a number, not 'Timestamp' matplotlib\"\n",
    "pd.plotting.register_matplotlib_converters()"
   ]
  },
  {
   "cell_type": "code",
   "execution_count": 3,
   "metadata": {},
   "outputs": [],
   "source": [
    "# colnames=['ip', 'timestamp', 'request_method', 'status', 'size',\n",
    "#           'destination', 'request_agent']\n",
    "# df_orig = pd.read_csv('anonymized-curriculum-access.txt',          \n",
    "#                  engine='python',\n",
    "#                  header=None,\n",
    "#                  index_col=False,\n",
    "#                  names=colnames,\n",
    "#                  sep=r'\\s(?=(?:[^\"]*\"[^\"]*\")*[^\"]*$)(?![^\\[]*\\])',\n",
    "#                  na_values='\"-\"',\n",
    "#                  usecols=[0, 3, 4, 5, 6, 7, 8]\n",
    "# )"
   ]
  },
  {
   "cell_type": "code",
   "execution_count": 4,
   "metadata": {},
   "outputs": [],
   "source": [
    "df = pd.read_csv('curriculum.txt',\n",
    "                engine='python',\n",
    "                 header=None,\n",
    "                 index_col=False,\n",
    "                 sep=r'\\s(?=(?:[^\"]*\"[^\"]*\")*[^\"]*$)(?![^\\[]*\\])',\n",
    "                 na_values='\"-\"',)\n",
    "\n",
    "\n"
   ]
  },
  {
   "cell_type": "code",
   "execution_count": 5,
   "metadata": {},
   "outputs": [
    {
     "data": {
      "text/html": [
       "<div>\n",
       "<style scoped>\n",
       "    .dataframe tbody tr th:only-of-type {\n",
       "        vertical-align: middle;\n",
       "    }\n",
       "\n",
       "    .dataframe tbody tr th {\n",
       "        vertical-align: top;\n",
       "    }\n",
       "\n",
       "    .dataframe thead th {\n",
       "        text-align: right;\n",
       "    }\n",
       "</style>\n",
       "<table border=\"1\" class=\"dataframe\">\n",
       "  <thead>\n",
       "    <tr style=\"text-align: right;\">\n",
       "      <th></th>\n",
       "      <th>0</th>\n",
       "      <th>1</th>\n",
       "      <th>2</th>\n",
       "      <th>3</th>\n",
       "      <th>4</th>\n",
       "      <th>5</th>\n",
       "    </tr>\n",
       "  </thead>\n",
       "  <tbody>\n",
       "    <tr>\n",
       "      <th>0</th>\n",
       "      <td>2018-01-26</td>\n",
       "      <td>09:55:03</td>\n",
       "      <td>/</td>\n",
       "      <td>1</td>\n",
       "      <td>8.0</td>\n",
       "      <td>97.105.19.61</td>\n",
       "    </tr>\n",
       "    <tr>\n",
       "      <th>1</th>\n",
       "      <td>2018-01-26</td>\n",
       "      <td>09:56:02</td>\n",
       "      <td>java-ii</td>\n",
       "      <td>1</td>\n",
       "      <td>8.0</td>\n",
       "      <td>97.105.19.61</td>\n",
       "    </tr>\n",
       "    <tr>\n",
       "      <th>2</th>\n",
       "      <td>2018-01-26</td>\n",
       "      <td>09:56:05</td>\n",
       "      <td>java-ii/object-oriented-programming</td>\n",
       "      <td>1</td>\n",
       "      <td>8.0</td>\n",
       "      <td>97.105.19.61</td>\n",
       "    </tr>\n",
       "    <tr>\n",
       "      <th>3</th>\n",
       "      <td>2018-01-26</td>\n",
       "      <td>09:56:06</td>\n",
       "      <td>slides/object_oriented_programming</td>\n",
       "      <td>1</td>\n",
       "      <td>8.0</td>\n",
       "      <td>97.105.19.61</td>\n",
       "    </tr>\n",
       "    <tr>\n",
       "      <th>4</th>\n",
       "      <td>2018-01-26</td>\n",
       "      <td>09:56:24</td>\n",
       "      <td>javascript-i/conditionals</td>\n",
       "      <td>2</td>\n",
       "      <td>22.0</td>\n",
       "      <td>97.105.19.61</td>\n",
       "    </tr>\n",
       "  </tbody>\n",
       "</table>\n",
       "</div>"
      ],
      "text/plain": [
       "            0         1                                    2  3     4  \\\n",
       "0  2018-01-26  09:55:03                                    /  1   8.0   \n",
       "1  2018-01-26  09:56:02                              java-ii  1   8.0   \n",
       "2  2018-01-26  09:56:05  java-ii/object-oriented-programming  1   8.0   \n",
       "3  2018-01-26  09:56:06   slides/object_oriented_programming  1   8.0   \n",
       "4  2018-01-26  09:56:24            javascript-i/conditionals  2  22.0   \n",
       "\n",
       "              5  \n",
       "0  97.105.19.61  \n",
       "1  97.105.19.61  \n",
       "2  97.105.19.61  \n",
       "3  97.105.19.61  \n",
       "4  97.105.19.61  "
      ]
     },
     "execution_count": 5,
     "metadata": {},
     "output_type": "execute_result"
    }
   ],
   "source": [
    "df.head()"
   ]
  },
  {
   "cell_type": "code",
   "execution_count": 6,
   "metadata": {},
   "outputs": [],
   "source": [
    "df.columns = ['date', 'time', 'page_viewed', 'user_id', 'cohort_id', 'ip']"
   ]
  },
  {
   "cell_type": "code",
   "execution_count": 7,
   "metadata": {},
   "outputs": [
    {
     "data": {
      "text/html": [
       "<div>\n",
       "<style scoped>\n",
       "    .dataframe tbody tr th:only-of-type {\n",
       "        vertical-align: middle;\n",
       "    }\n",
       "\n",
       "    .dataframe tbody tr th {\n",
       "        vertical-align: top;\n",
       "    }\n",
       "\n",
       "    .dataframe thead th {\n",
       "        text-align: right;\n",
       "    }\n",
       "</style>\n",
       "<table border=\"1\" class=\"dataframe\">\n",
       "  <thead>\n",
       "    <tr style=\"text-align: right;\">\n",
       "      <th></th>\n",
       "      <th>date</th>\n",
       "      <th>time</th>\n",
       "      <th>page_viewed</th>\n",
       "      <th>user_id</th>\n",
       "      <th>cohort_id</th>\n",
       "      <th>ip</th>\n",
       "    </tr>\n",
       "  </thead>\n",
       "  <tbody>\n",
       "    <tr>\n",
       "      <th>0</th>\n",
       "      <td>2018-01-26</td>\n",
       "      <td>09:55:03</td>\n",
       "      <td>/</td>\n",
       "      <td>1</td>\n",
       "      <td>8.0</td>\n",
       "      <td>97.105.19.61</td>\n",
       "    </tr>\n",
       "    <tr>\n",
       "      <th>1</th>\n",
       "      <td>2018-01-26</td>\n",
       "      <td>09:56:02</td>\n",
       "      <td>java-ii</td>\n",
       "      <td>1</td>\n",
       "      <td>8.0</td>\n",
       "      <td>97.105.19.61</td>\n",
       "    </tr>\n",
       "    <tr>\n",
       "      <th>2</th>\n",
       "      <td>2018-01-26</td>\n",
       "      <td>09:56:05</td>\n",
       "      <td>java-ii/object-oriented-programming</td>\n",
       "      <td>1</td>\n",
       "      <td>8.0</td>\n",
       "      <td>97.105.19.61</td>\n",
       "    </tr>\n",
       "    <tr>\n",
       "      <th>3</th>\n",
       "      <td>2018-01-26</td>\n",
       "      <td>09:56:06</td>\n",
       "      <td>slides/object_oriented_programming</td>\n",
       "      <td>1</td>\n",
       "      <td>8.0</td>\n",
       "      <td>97.105.19.61</td>\n",
       "    </tr>\n",
       "    <tr>\n",
       "      <th>4</th>\n",
       "      <td>2018-01-26</td>\n",
       "      <td>09:56:24</td>\n",
       "      <td>javascript-i/conditionals</td>\n",
       "      <td>2</td>\n",
       "      <td>22.0</td>\n",
       "      <td>97.105.19.61</td>\n",
       "    </tr>\n",
       "  </tbody>\n",
       "</table>\n",
       "</div>"
      ],
      "text/plain": [
       "         date      time                          page_viewed  user_id  \\\n",
       "0  2018-01-26  09:55:03                                    /        1   \n",
       "1  2018-01-26  09:56:02                              java-ii        1   \n",
       "2  2018-01-26  09:56:05  java-ii/object-oriented-programming        1   \n",
       "3  2018-01-26  09:56:06   slides/object_oriented_programming        1   \n",
       "4  2018-01-26  09:56:24            javascript-i/conditionals        2   \n",
       "\n",
       "   cohort_id            ip  \n",
       "0        8.0  97.105.19.61  \n",
       "1        8.0  97.105.19.61  \n",
       "2        8.0  97.105.19.61  \n",
       "3        8.0  97.105.19.61  \n",
       "4       22.0  97.105.19.61  "
      ]
     },
     "execution_count": 7,
     "metadata": {},
     "output_type": "execute_result"
    }
   ],
   "source": [
    "df.head()"
   ]
  },
  {
   "cell_type": "code",
   "execution_count": 8,
   "metadata": {},
   "outputs": [
    {
     "name": "stdout",
     "output_type": "stream",
     "text": [
      "<class 'pandas.core.frame.DataFrame'>\n",
      "RangeIndex: 719459 entries, 0 to 719458\n",
      "Data columns (total 6 columns):\n",
      " #   Column       Non-Null Count   Dtype  \n",
      "---  ------       --------------   -----  \n",
      " 0   date         719459 non-null  object \n",
      " 1   time         719459 non-null  object \n",
      " 2   page_viewed  719458 non-null  object \n",
      " 3   user_id      719459 non-null  int64  \n",
      " 4   cohort_id    674619 non-null  float64\n",
      " 5   ip           719459 non-null  object \n",
      "dtypes: float64(1), int64(1), object(4)\n",
      "memory usage: 32.9+ MB\n"
     ]
    }
   ],
   "source": [
    "df.info()"
   ]
  },
  {
   "cell_type": "code",
   "execution_count": 9,
   "metadata": {},
   "outputs": [],
   "source": [
    "df.dropna(inplace=True)"
   ]
  },
  {
   "cell_type": "code",
   "execution_count": 10,
   "metadata": {},
   "outputs": [
    {
     "name": "stdout",
     "output_type": "stream",
     "text": [
      "<class 'pandas.core.frame.DataFrame'>\n",
      "Int64Index: 674618 entries, 0 to 719458\n",
      "Data columns (total 6 columns):\n",
      " #   Column       Non-Null Count   Dtype  \n",
      "---  ------       --------------   -----  \n",
      " 0   date         674618 non-null  object \n",
      " 1   time         674618 non-null  object \n",
      " 2   page_viewed  674618 non-null  object \n",
      " 3   user_id      674618 non-null  int64  \n",
      " 4   cohort_id    674618 non-null  float64\n",
      " 5   ip           674618 non-null  object \n",
      "dtypes: float64(1), int64(1), object(4)\n",
      "memory usage: 36.0+ MB\n"
     ]
    }
   ],
   "source": [
    "df.info()"
   ]
  },
  {
   "cell_type": "code",
   "execution_count": 11,
   "metadata": {},
   "outputs": [],
   "source": [
    "df.dropna(inplace=True)\n",
    "df.cohort_id = df.cohort_id.astype('int')\n",
    "df['date'] = df.date + \" \" + df.time\n",
    "df.drop(columns=('time'), inplace=True)\n",
    "df.date = pd.to_datetime(df.date)\n",
    "df = df.set_index('date')"
   ]
  },
  {
   "cell_type": "code",
   "execution_count": 12,
   "metadata": {},
   "outputs": [
    {
     "data": {
      "text/html": [
       "<div>\n",
       "<style scoped>\n",
       "    .dataframe tbody tr th:only-of-type {\n",
       "        vertical-align: middle;\n",
       "    }\n",
       "\n",
       "    .dataframe tbody tr th {\n",
       "        vertical-align: top;\n",
       "    }\n",
       "\n",
       "    .dataframe thead th {\n",
       "        text-align: right;\n",
       "    }\n",
       "</style>\n",
       "<table border=\"1\" class=\"dataframe\">\n",
       "  <thead>\n",
       "    <tr style=\"text-align: right;\">\n",
       "      <th></th>\n",
       "      <th>page_viewed</th>\n",
       "      <th>user_id</th>\n",
       "      <th>cohort_id</th>\n",
       "      <th>ip</th>\n",
       "    </tr>\n",
       "    <tr>\n",
       "      <th>date</th>\n",
       "      <th></th>\n",
       "      <th></th>\n",
       "      <th></th>\n",
       "      <th></th>\n",
       "    </tr>\n",
       "  </thead>\n",
       "  <tbody>\n",
       "    <tr>\n",
       "      <th>2018-01-26 09:55:03</th>\n",
       "      <td>/</td>\n",
       "      <td>1</td>\n",
       "      <td>8</td>\n",
       "      <td>97.105.19.61</td>\n",
       "    </tr>\n",
       "    <tr>\n",
       "      <th>2018-01-26 09:56:02</th>\n",
       "      <td>java-ii</td>\n",
       "      <td>1</td>\n",
       "      <td>8</td>\n",
       "      <td>97.105.19.61</td>\n",
       "    </tr>\n",
       "    <tr>\n",
       "      <th>2018-01-26 09:56:05</th>\n",
       "      <td>java-ii/object-oriented-programming</td>\n",
       "      <td>1</td>\n",
       "      <td>8</td>\n",
       "      <td>97.105.19.61</td>\n",
       "    </tr>\n",
       "    <tr>\n",
       "      <th>2018-01-26 09:56:06</th>\n",
       "      <td>slides/object_oriented_programming</td>\n",
       "      <td>1</td>\n",
       "      <td>8</td>\n",
       "      <td>97.105.19.61</td>\n",
       "    </tr>\n",
       "    <tr>\n",
       "      <th>2018-01-26 09:56:24</th>\n",
       "      <td>javascript-i/conditionals</td>\n",
       "      <td>2</td>\n",
       "      <td>22</td>\n",
       "      <td>97.105.19.61</td>\n",
       "    </tr>\n",
       "  </tbody>\n",
       "</table>\n",
       "</div>"
      ],
      "text/plain": [
       "                                             page_viewed  user_id  cohort_id  \\\n",
       "date                                                                           \n",
       "2018-01-26 09:55:03                                    /        1          8   \n",
       "2018-01-26 09:56:02                              java-ii        1          8   \n",
       "2018-01-26 09:56:05  java-ii/object-oriented-programming        1          8   \n",
       "2018-01-26 09:56:06   slides/object_oriented_programming        1          8   \n",
       "2018-01-26 09:56:24            javascript-i/conditionals        2         22   \n",
       "\n",
       "                               ip  \n",
       "date                               \n",
       "2018-01-26 09:55:03  97.105.19.61  \n",
       "2018-01-26 09:56:02  97.105.19.61  \n",
       "2018-01-26 09:56:05  97.105.19.61  \n",
       "2018-01-26 09:56:06  97.105.19.61  \n",
       "2018-01-26 09:56:24  97.105.19.61  "
      ]
     },
     "execution_count": 12,
     "metadata": {},
     "output_type": "execute_result"
    }
   ],
   "source": [
    "df.head()"
   ]
  },
  {
   "cell_type": "code",
   "execution_count": null,
   "metadata": {},
   "outputs": [],
   "source": []
  },
  {
   "cell_type": "code",
   "execution_count": null,
   "metadata": {},
   "outputs": [],
   "source": []
  },
  {
   "cell_type": "code",
   "execution_count": null,
   "metadata": {},
   "outputs": [],
   "source": []
  },
  {
   "cell_type": "code",
   "execution_count": 14,
   "metadata": {},
   "outputs": [],
   "source": [
    "# df.drop(columns=('time'), inplace=True)"
   ]
  },
  {
   "cell_type": "code",
   "execution_count": 15,
   "metadata": {},
   "outputs": [
    {
     "data": {
      "text/html": [
       "<div>\n",
       "<style scoped>\n",
       "    .dataframe tbody tr th:only-of-type {\n",
       "        vertical-align: middle;\n",
       "    }\n",
       "\n",
       "    .dataframe tbody tr th {\n",
       "        vertical-align: top;\n",
       "    }\n",
       "\n",
       "    .dataframe thead th {\n",
       "        text-align: right;\n",
       "    }\n",
       "</style>\n",
       "<table border=\"1\" class=\"dataframe\">\n",
       "  <thead>\n",
       "    <tr style=\"text-align: right;\">\n",
       "      <th></th>\n",
       "      <th>page_viewed</th>\n",
       "      <th>user_id</th>\n",
       "      <th>cohort_id</th>\n",
       "      <th>ip</th>\n",
       "    </tr>\n",
       "    <tr>\n",
       "      <th>date</th>\n",
       "      <th></th>\n",
       "      <th></th>\n",
       "      <th></th>\n",
       "      <th></th>\n",
       "    </tr>\n",
       "  </thead>\n",
       "  <tbody>\n",
       "    <tr>\n",
       "      <th>2018-01-26 09:55:03</th>\n",
       "      <td>/</td>\n",
       "      <td>1</td>\n",
       "      <td>8</td>\n",
       "      <td>97.105.19.61</td>\n",
       "    </tr>\n",
       "    <tr>\n",
       "      <th>2018-01-26 09:56:02</th>\n",
       "      <td>java-ii</td>\n",
       "      <td>1</td>\n",
       "      <td>8</td>\n",
       "      <td>97.105.19.61</td>\n",
       "    </tr>\n",
       "    <tr>\n",
       "      <th>2018-01-26 09:56:05</th>\n",
       "      <td>java-ii/object-oriented-programming</td>\n",
       "      <td>1</td>\n",
       "      <td>8</td>\n",
       "      <td>97.105.19.61</td>\n",
       "    </tr>\n",
       "    <tr>\n",
       "      <th>2018-01-26 09:56:06</th>\n",
       "      <td>slides/object_oriented_programming</td>\n",
       "      <td>1</td>\n",
       "      <td>8</td>\n",
       "      <td>97.105.19.61</td>\n",
       "    </tr>\n",
       "    <tr>\n",
       "      <th>2018-01-26 09:56:24</th>\n",
       "      <td>javascript-i/conditionals</td>\n",
       "      <td>2</td>\n",
       "      <td>22</td>\n",
       "      <td>97.105.19.61</td>\n",
       "    </tr>\n",
       "  </tbody>\n",
       "</table>\n",
       "</div>"
      ],
      "text/plain": [
       "                                             page_viewed  user_id  cohort_id  \\\n",
       "date                                                                           \n",
       "2018-01-26 09:55:03                                    /        1          8   \n",
       "2018-01-26 09:56:02                              java-ii        1          8   \n",
       "2018-01-26 09:56:05  java-ii/object-oriented-programming        1          8   \n",
       "2018-01-26 09:56:06   slides/object_oriented_programming        1          8   \n",
       "2018-01-26 09:56:24            javascript-i/conditionals        2         22   \n",
       "\n",
       "                               ip  \n",
       "date                               \n",
       "2018-01-26 09:55:03  97.105.19.61  \n",
       "2018-01-26 09:56:02  97.105.19.61  \n",
       "2018-01-26 09:56:05  97.105.19.61  \n",
       "2018-01-26 09:56:06  97.105.19.61  \n",
       "2018-01-26 09:56:24  97.105.19.61  "
      ]
     },
     "execution_count": 15,
     "metadata": {},
     "output_type": "execute_result"
    }
   ],
   "source": [
    "df.head()"
   ]
  },
  {
   "cell_type": "code",
   "execution_count": 16,
   "metadata": {},
   "outputs": [
    {
     "data": {
      "text/plain": [
       "/                            36074\n",
       "javascript-i                 13912\n",
       "search/search_index.json     13602\n",
       "toc                          13413\n",
       "java-iii                     10614\n",
       "                             ...  \n",
       "ada-capsontes.html               1\n",
       "Exploration_Lecture              1\n",
       "2.1-spreadsheets-overview        1\n",
       "b-clustering/project             1\n",
       "python                           1\n",
       "Name: page_viewed, Length: 2060, dtype: int64"
      ]
     },
     "execution_count": 16,
     "metadata": {},
     "output_type": "execute_result"
    }
   ],
   "source": [
    "df['page_viewed'].value_counts()"
   ]
  },
  {
   "cell_type": "code",
   "execution_count": 17,
   "metadata": {},
   "outputs": [],
   "source": [
    "def compute_entropy(series):\n",
    "    counts = series.value_counts()\n",
    "    if len(counts)==1:\n",
    "        ent = 0\n",
    "    else:\n",
    "        value, counts = np.unique(series, return_counts=True)\n",
    "        ent = entropy(counts, base=None)\n",
    "    return ent"
   ]
  },
  {
   "cell_type": "code",
   "execution_count": 18,
   "metadata": {},
   "outputs": [
    {
     "data": {
      "text/plain": [
       "4.198666302653029"
      ]
     },
     "execution_count": 18,
     "metadata": {},
     "output_type": "execute_result"
    }
   ],
   "source": [
    "compute_entropy(df.ip)"
   ]
  },
  {
   "cell_type": "code",
   "execution_count": 19,
   "metadata": {},
   "outputs": [
    {
     "data": {
      "text/plain": [
       "3.2014554018220913"
      ]
     },
     "execution_count": 19,
     "metadata": {},
     "output_type": "execute_result"
    }
   ],
   "source": [
    "compute_entropy(df.cohort_id)"
   ]
  },
  {
   "cell_type": "code",
   "execution_count": 20,
   "metadata": {},
   "outputs": [
    {
     "ename": "AttributeError",
     "evalue": "'DataFrame' object has no attribute 'date'",
     "output_type": "error",
     "traceback": [
      "\u001b[0;31m---------------------------------------------------------------------------\u001b[0m",
      "\u001b[0;31mAttributeError\u001b[0m                            Traceback (most recent call last)",
      "\u001b[0;32m<ipython-input-20-25d8b36b044a>\u001b[0m in \u001b[0;36m<module>\u001b[0;34m\u001b[0m\n\u001b[0;32m----> 1\u001b[0;31m \u001b[0mdf\u001b[0m\u001b[0;34m.\u001b[0m\u001b[0mdate\u001b[0m\u001b[0;34m.\u001b[0m\u001b[0mvalue_counts\u001b[0m\u001b[0;34m(\u001b[0m\u001b[0;34m)\u001b[0m\u001b[0;34m\u001b[0m\u001b[0;34m\u001b[0m\u001b[0m\n\u001b[0m",
      "\u001b[0;32m/usr/local/anaconda3/lib/python3.7/site-packages/pandas/core/generic.py\u001b[0m in \u001b[0;36m__getattr__\u001b[0;34m(self, name)\u001b[0m\n\u001b[1;32m   5137\u001b[0m             \u001b[0;32mif\u001b[0m \u001b[0mself\u001b[0m\u001b[0;34m.\u001b[0m\u001b[0m_info_axis\u001b[0m\u001b[0;34m.\u001b[0m\u001b[0m_can_hold_identifiers_and_holds_name\u001b[0m\u001b[0;34m(\u001b[0m\u001b[0mname\u001b[0m\u001b[0;34m)\u001b[0m\u001b[0;34m:\u001b[0m\u001b[0;34m\u001b[0m\u001b[0;34m\u001b[0m\u001b[0m\n\u001b[1;32m   5138\u001b[0m                 \u001b[0;32mreturn\u001b[0m \u001b[0mself\u001b[0m\u001b[0;34m[\u001b[0m\u001b[0mname\u001b[0m\u001b[0;34m]\u001b[0m\u001b[0;34m\u001b[0m\u001b[0;34m\u001b[0m\u001b[0m\n\u001b[0;32m-> 5139\u001b[0;31m             \u001b[0;32mreturn\u001b[0m \u001b[0mobject\u001b[0m\u001b[0;34m.\u001b[0m\u001b[0m__getattribute__\u001b[0m\u001b[0;34m(\u001b[0m\u001b[0mself\u001b[0m\u001b[0;34m,\u001b[0m \u001b[0mname\u001b[0m\u001b[0;34m)\u001b[0m\u001b[0;34m\u001b[0m\u001b[0;34m\u001b[0m\u001b[0m\n\u001b[0m\u001b[1;32m   5140\u001b[0m \u001b[0;34m\u001b[0m\u001b[0m\n\u001b[1;32m   5141\u001b[0m     \u001b[0;32mdef\u001b[0m \u001b[0m__setattr__\u001b[0m\u001b[0;34m(\u001b[0m\u001b[0mself\u001b[0m\u001b[0;34m,\u001b[0m \u001b[0mname\u001b[0m\u001b[0;34m:\u001b[0m \u001b[0mstr\u001b[0m\u001b[0;34m,\u001b[0m \u001b[0mvalue\u001b[0m\u001b[0;34m)\u001b[0m \u001b[0;34m->\u001b[0m \u001b[0;32mNone\u001b[0m\u001b[0;34m:\u001b[0m\u001b[0;34m\u001b[0m\u001b[0;34m\u001b[0m\u001b[0m\n",
      "\u001b[0;31mAttributeError\u001b[0m: 'DataFrame' object has no attribute 'date'"
     ]
    }
   ],
   "source": [
    "df.date.value_counts()"
   ]
  },
  {
   "cell_type": "code",
   "execution_count": 21,
   "metadata": {},
   "outputs": [
    {
     "ename": "AttributeError",
     "evalue": "'DataFrame' object has no attribute 'date'",
     "output_type": "error",
     "traceback": [
      "\u001b[0;31m---------------------------------------------------------------------------\u001b[0m",
      "\u001b[0;31mAttributeError\u001b[0m                            Traceback (most recent call last)",
      "\u001b[0;32m<ipython-input-21-d0698d50b207>\u001b[0m in \u001b[0;36m<module>\u001b[0;34m\u001b[0m\n\u001b[0;32m----> 1\u001b[0;31m \u001b[0mdf\u001b[0m\u001b[0;34m.\u001b[0m\u001b[0mdate\u001b[0m \u001b[0;34m=\u001b[0m \u001b[0mpd\u001b[0m\u001b[0;34m.\u001b[0m\u001b[0mto_datetime\u001b[0m\u001b[0;34m(\u001b[0m\u001b[0mdf\u001b[0m\u001b[0;34m.\u001b[0m\u001b[0mdate\u001b[0m\u001b[0;34m)\u001b[0m\u001b[0;34m\u001b[0m\u001b[0;34m\u001b[0m\u001b[0m\n\u001b[0m",
      "\u001b[0;32m/usr/local/anaconda3/lib/python3.7/site-packages/pandas/core/generic.py\u001b[0m in \u001b[0;36m__getattr__\u001b[0;34m(self, name)\u001b[0m\n\u001b[1;32m   5137\u001b[0m             \u001b[0;32mif\u001b[0m \u001b[0mself\u001b[0m\u001b[0;34m.\u001b[0m\u001b[0m_info_axis\u001b[0m\u001b[0;34m.\u001b[0m\u001b[0m_can_hold_identifiers_and_holds_name\u001b[0m\u001b[0;34m(\u001b[0m\u001b[0mname\u001b[0m\u001b[0;34m)\u001b[0m\u001b[0;34m:\u001b[0m\u001b[0;34m\u001b[0m\u001b[0;34m\u001b[0m\u001b[0m\n\u001b[1;32m   5138\u001b[0m                 \u001b[0;32mreturn\u001b[0m \u001b[0mself\u001b[0m\u001b[0;34m[\u001b[0m\u001b[0mname\u001b[0m\u001b[0;34m]\u001b[0m\u001b[0;34m\u001b[0m\u001b[0;34m\u001b[0m\u001b[0m\n\u001b[0;32m-> 5139\u001b[0;31m             \u001b[0;32mreturn\u001b[0m \u001b[0mobject\u001b[0m\u001b[0;34m.\u001b[0m\u001b[0m__getattribute__\u001b[0m\u001b[0;34m(\u001b[0m\u001b[0mself\u001b[0m\u001b[0;34m,\u001b[0m \u001b[0mname\u001b[0m\u001b[0;34m)\u001b[0m\u001b[0;34m\u001b[0m\u001b[0;34m\u001b[0m\u001b[0m\n\u001b[0m\u001b[1;32m   5140\u001b[0m \u001b[0;34m\u001b[0m\u001b[0m\n\u001b[1;32m   5141\u001b[0m     \u001b[0;32mdef\u001b[0m \u001b[0m__setattr__\u001b[0m\u001b[0;34m(\u001b[0m\u001b[0mself\u001b[0m\u001b[0;34m,\u001b[0m \u001b[0mname\u001b[0m\u001b[0;34m:\u001b[0m \u001b[0mstr\u001b[0m\u001b[0;34m,\u001b[0m \u001b[0mvalue\u001b[0m\u001b[0;34m)\u001b[0m \u001b[0;34m->\u001b[0m \u001b[0;32mNone\u001b[0m\u001b[0;34m:\u001b[0m\u001b[0;34m\u001b[0m\u001b[0;34m\u001b[0m\u001b[0m\n",
      "\u001b[0;31mAttributeError\u001b[0m: 'DataFrame' object has no attribute 'date'"
     ]
    }
   ],
   "source": [
    "df.date = pd.to_datetime(df.date)"
   ]
  },
  {
   "cell_type": "code",
   "execution_count": null,
   "metadata": {},
   "outputs": [],
   "source": [
    "df.date = pd.to_datetime(df.date)\n",
    "df = df.set_index('date')\n"
   ]
  },
  {
   "cell_type": "code",
   "execution_count": null,
   "metadata": {},
   "outputs": [],
   "source": [
    "df['user_id'].value_counts()"
   ]
  },
  {
   "cell_type": "code",
   "execution_count": null,
   "metadata": {},
   "outputs": [],
   "source": [
    "df['cohort_id'].value_counts()"
   ]
  },
  {
   "cell_type": "code",
   "execution_count": null,
   "metadata": {},
   "outputs": [],
   "source": []
  },
  {
   "cell_type": "code",
   "execution_count": null,
   "metadata": {},
   "outputs": [],
   "source": [
    "new_df = df[['cohort_id']]"
   ]
  },
  {
   "cell_type": "code",
   "execution_count": null,
   "metadata": {},
   "outputs": [],
   "source": [
    "new_df.head()"
   ]
  },
  {
   "cell_type": "code",
   "execution_count": null,
   "metadata": {},
   "outputs": [],
   "source": [
    "new_df.resample('W').sum()"
   ]
  },
  {
   "cell_type": "code",
   "execution_count": null,
   "metadata": {},
   "outputs": [],
   "source": [
    "train = df[:'2019-12-31 22:52:12 ']\n",
    "validate = df['2019-12-31 22:52:13':'2020-02-01 00:00:00']\n",
    "test = df['2020-02-01 00:00:01':]"
   ]
  },
  {
   "cell_type": "code",
   "execution_count": null,
   "metadata": {},
   "outputs": [],
   "source": [
    "train.shape, validate.shape, test.shape"
   ]
  },
  {
   "cell_type": "code",
   "execution_count": null,
   "metadata": {},
   "outputs": [],
   "source": [
    "# plt.figure(figsize=(12, 8))\n",
    "# plt.plot(train)\n",
    "# plt.plot(validate)\n",
    "# plt.plot(test)\n",
    "# plt.show()"
   ]
  },
  {
   "cell_type": "code",
   "execution_count": null,
   "metadata": {},
   "outputs": [],
   "source": [
    "ip_df = pd.DataFrame(df.ip.value_counts(dropna=False)).reset_index().\\\n",
    "                rename(index=str, columns={'index': 'ip', 'ip': 'ip_count'})\n",
    "ip_df2 = pd.DataFrame(df.ip.value_counts(dropna=False)/df.ip.count()).reset_index().\\\n",
    "                rename(index=str, columns={'index': 'ip', 'ip': 'ip_proba'})\n",
    "ip_df = ip_df.merge(ip_df2)"
   ]
  },
  {
   "cell_type": "code",
   "execution_count": null,
   "metadata": {},
   "outputs": [],
   "source": [
    "ip_df[ip_df.ip_proba < .01]\n"
   ]
  },
  {
   "cell_type": "code",
   "execution_count": null,
   "metadata": {},
   "outputs": [],
   "source": [
    "# print(len(ip_df))\n",
    "\n",
    "# print(ip_df.tail(10))\n",
    "\n",
    "# plt.figure(figsize=(12, 4))\n",
    "# splot = sns.barplot(data=ip_df, x = 'ip', y = 'ip_count', ci = None)\n",
    "# for p in splot.patches:\n",
    "#     splot.annotate(format(p.get_height(), '.0f'), \n",
    "#                    (p.get_x() + p.get_width() / 2., p.get_height()), \n",
    "#                    ha = 'center', va = 'center', xytext = (0, 10), \n",
    "#                    textcoords = 'offset points'\n",
    "#                    )\n",
    "#     plt.xticks(rotation='vertical')"
   ]
  },
  {
   "cell_type": "code",
   "execution_count": null,
   "metadata": {},
   "outputs": [],
   "source": [
    "train.info()"
   ]
  },
  {
   "cell_type": "code",
   "execution_count": null,
   "metadata": {},
   "outputs": [],
   "source": [
    "ip_df = pd.DataFrame(train.ip.value_counts(dropna=False)/train.ip.count()).reset_index().\\\n",
    "                rename(index=str, columns={'index': 'ip', 'ip': 'ip_proba'})"
   ]
  },
  {
   "cell_type": "code",
   "execution_count": null,
   "metadata": {},
   "outputs": [],
   "source": [
    "ip_df"
   ]
  },
  {
   "cell_type": "code",
   "execution_count": null,
   "metadata": {},
   "outputs": [],
   "source": [
    "df = df.reset_index().merge(ip_df, on=['ip'], how='left').fillna(value=0).set_index('date')\n",
    "df.ip_proba.value_counts()"
   ]
  },
  {
   "cell_type": "code",
   "execution_count": null,
   "metadata": {},
   "outputs": [],
   "source": [
    "df.head()"
   ]
  },
  {
   "cell_type": "code",
   "execution_count": null,
   "metadata": {},
   "outputs": [],
   "source": [
    "df.ip_proba.value_counts()"
   ]
  },
  {
   "cell_type": "code",
   "execution_count": null,
   "metadata": {},
   "outputs": [],
   "source": [
    "ip_probs = df.groupby('ip').size().div(len(df))\n",
    "\n",
    "cohort_given_ip = pd.DataFrame(df.groupby(['ip', 'cohort_id']).\\\n",
    "                               size().div(len(df)).\\\n",
    "                               div(ip_probs, \n",
    "                                   axis=0, \n",
    "                                   level='ip').\\\n",
    "                               reset_index().\\\n",
    "                               rename(index=str, \n",
    "                                      columns={0: 'proba_cohort_given_ip'})\n",
    "                              )"
   ]
  },
  {
   "cell_type": "code",
   "execution_count": null,
   "metadata": {},
   "outputs": [],
   "source": [
    "cohort_given_ip.head()"
   ]
  },
  {
   "cell_type": "code",
   "execution_count": null,
   "metadata": {},
   "outputs": [],
   "source": [
    "df.info()"
   ]
  },
  {
   "cell_type": "code",
   "execution_count": null,
   "metadata": {},
   "outputs": [],
   "source": [
    "df = df.reset_index().merge(cohort_given_ip, on=['ip', 'cohort_id'], how='left').fillna(value=0).set_index('date')\n"
   ]
  },
  {
   "cell_type": "code",
   "execution_count": null,
   "metadata": {},
   "outputs": [],
   "source": [
    "df.head()"
   ]
  },
  {
   "cell_type": "code",
   "execution_count": null,
   "metadata": {},
   "outputs": [],
   "source": [
    "df['proba_cohort_given_ip'].value_counts()"
   ]
  },
  {
   "cell_type": "code",
   "execution_count": null,
   "metadata": {},
   "outputs": [],
   "source": [
    "df[df['proba_cohort_given_ip'] == 1]"
   ]
  },
  {
   "cell_type": "code",
   "execution_count": null,
   "metadata": {},
   "outputs": [],
   "source": [
    "plt.scatter(df.proba_cohort_given_ip, df.ip_proba)\n"
   ]
  },
  {
   "cell_type": "code",
   "execution_count": null,
   "metadata": {},
   "outputs": [],
   "source": []
  },
  {
   "cell_type": "code",
   "execution_count": null,
   "metadata": {},
   "outputs": [],
   "source": []
  },
  {
   "cell_type": "markdown",
   "metadata": {},
   "source": [
    "# New Analysis of cohort with most activity and user with most activity within that cohort"
   ]
  },
  {
   "cell_type": "code",
   "execution_count": 22,
   "metadata": {},
   "outputs": [],
   "source": [
    "df = pd.read_csv('curriculum.txt',\n",
    "                engine='python',\n",
    "                 header=None,\n",
    "                 index_col=False,\n",
    "                 sep=r'\\s(?=(?:[^\"]*\"[^\"]*\")*[^\"]*$)(?![^\\[]*\\])',\n",
    "                 na_values='\"-\"',)\n"
   ]
  },
  {
   "cell_type": "code",
   "execution_count": 23,
   "metadata": {},
   "outputs": [
    {
     "data": {
      "text/html": [
       "<div>\n",
       "<style scoped>\n",
       "    .dataframe tbody tr th:only-of-type {\n",
       "        vertical-align: middle;\n",
       "    }\n",
       "\n",
       "    .dataframe tbody tr th {\n",
       "        vertical-align: top;\n",
       "    }\n",
       "\n",
       "    .dataframe thead th {\n",
       "        text-align: right;\n",
       "    }\n",
       "</style>\n",
       "<table border=\"1\" class=\"dataframe\">\n",
       "  <thead>\n",
       "    <tr style=\"text-align: right;\">\n",
       "      <th></th>\n",
       "      <th>0</th>\n",
       "      <th>1</th>\n",
       "      <th>2</th>\n",
       "      <th>3</th>\n",
       "      <th>4</th>\n",
       "      <th>5</th>\n",
       "    </tr>\n",
       "  </thead>\n",
       "  <tbody>\n",
       "    <tr>\n",
       "      <th>0</th>\n",
       "      <td>2018-01-26</td>\n",
       "      <td>09:55:03</td>\n",
       "      <td>/</td>\n",
       "      <td>1</td>\n",
       "      <td>8.0</td>\n",
       "      <td>97.105.19.61</td>\n",
       "    </tr>\n",
       "    <tr>\n",
       "      <th>1</th>\n",
       "      <td>2018-01-26</td>\n",
       "      <td>09:56:02</td>\n",
       "      <td>java-ii</td>\n",
       "      <td>1</td>\n",
       "      <td>8.0</td>\n",
       "      <td>97.105.19.61</td>\n",
       "    </tr>\n",
       "    <tr>\n",
       "      <th>2</th>\n",
       "      <td>2018-01-26</td>\n",
       "      <td>09:56:05</td>\n",
       "      <td>java-ii/object-oriented-programming</td>\n",
       "      <td>1</td>\n",
       "      <td>8.0</td>\n",
       "      <td>97.105.19.61</td>\n",
       "    </tr>\n",
       "    <tr>\n",
       "      <th>3</th>\n",
       "      <td>2018-01-26</td>\n",
       "      <td>09:56:06</td>\n",
       "      <td>slides/object_oriented_programming</td>\n",
       "      <td>1</td>\n",
       "      <td>8.0</td>\n",
       "      <td>97.105.19.61</td>\n",
       "    </tr>\n",
       "    <tr>\n",
       "      <th>4</th>\n",
       "      <td>2018-01-26</td>\n",
       "      <td>09:56:24</td>\n",
       "      <td>javascript-i/conditionals</td>\n",
       "      <td>2</td>\n",
       "      <td>22.0</td>\n",
       "      <td>97.105.19.61</td>\n",
       "    </tr>\n",
       "  </tbody>\n",
       "</table>\n",
       "</div>"
      ],
      "text/plain": [
       "            0         1                                    2  3     4  \\\n",
       "0  2018-01-26  09:55:03                                    /  1   8.0   \n",
       "1  2018-01-26  09:56:02                              java-ii  1   8.0   \n",
       "2  2018-01-26  09:56:05  java-ii/object-oriented-programming  1   8.0   \n",
       "3  2018-01-26  09:56:06   slides/object_oriented_programming  1   8.0   \n",
       "4  2018-01-26  09:56:24            javascript-i/conditionals  2  22.0   \n",
       "\n",
       "              5  \n",
       "0  97.105.19.61  \n",
       "1  97.105.19.61  \n",
       "2  97.105.19.61  \n",
       "3  97.105.19.61  \n",
       "4  97.105.19.61  "
      ]
     },
     "execution_count": 23,
     "metadata": {},
     "output_type": "execute_result"
    }
   ],
   "source": [
    "df.head()"
   ]
  },
  {
   "cell_type": "code",
   "execution_count": 24,
   "metadata": {},
   "outputs": [],
   "source": [
    "df.columns = ['date', 'time', 'page_viewed', 'user_id', 'cohort_id', 'ip']"
   ]
  },
  {
   "cell_type": "code",
   "execution_count": 25,
   "metadata": {},
   "outputs": [
    {
     "data": {
      "text/html": [
       "<div>\n",
       "<style scoped>\n",
       "    .dataframe tbody tr th:only-of-type {\n",
       "        vertical-align: middle;\n",
       "    }\n",
       "\n",
       "    .dataframe tbody tr th {\n",
       "        vertical-align: top;\n",
       "    }\n",
       "\n",
       "    .dataframe thead th {\n",
       "        text-align: right;\n",
       "    }\n",
       "</style>\n",
       "<table border=\"1\" class=\"dataframe\">\n",
       "  <thead>\n",
       "    <tr style=\"text-align: right;\">\n",
       "      <th></th>\n",
       "      <th>date</th>\n",
       "      <th>time</th>\n",
       "      <th>page_viewed</th>\n",
       "      <th>user_id</th>\n",
       "      <th>cohort_id</th>\n",
       "      <th>ip</th>\n",
       "    </tr>\n",
       "  </thead>\n",
       "  <tbody>\n",
       "    <tr>\n",
       "      <th>0</th>\n",
       "      <td>2018-01-26</td>\n",
       "      <td>09:55:03</td>\n",
       "      <td>/</td>\n",
       "      <td>1</td>\n",
       "      <td>8.0</td>\n",
       "      <td>97.105.19.61</td>\n",
       "    </tr>\n",
       "    <tr>\n",
       "      <th>1</th>\n",
       "      <td>2018-01-26</td>\n",
       "      <td>09:56:02</td>\n",
       "      <td>java-ii</td>\n",
       "      <td>1</td>\n",
       "      <td>8.0</td>\n",
       "      <td>97.105.19.61</td>\n",
       "    </tr>\n",
       "    <tr>\n",
       "      <th>2</th>\n",
       "      <td>2018-01-26</td>\n",
       "      <td>09:56:05</td>\n",
       "      <td>java-ii/object-oriented-programming</td>\n",
       "      <td>1</td>\n",
       "      <td>8.0</td>\n",
       "      <td>97.105.19.61</td>\n",
       "    </tr>\n",
       "    <tr>\n",
       "      <th>3</th>\n",
       "      <td>2018-01-26</td>\n",
       "      <td>09:56:06</td>\n",
       "      <td>slides/object_oriented_programming</td>\n",
       "      <td>1</td>\n",
       "      <td>8.0</td>\n",
       "      <td>97.105.19.61</td>\n",
       "    </tr>\n",
       "    <tr>\n",
       "      <th>4</th>\n",
       "      <td>2018-01-26</td>\n",
       "      <td>09:56:24</td>\n",
       "      <td>javascript-i/conditionals</td>\n",
       "      <td>2</td>\n",
       "      <td>22.0</td>\n",
       "      <td>97.105.19.61</td>\n",
       "    </tr>\n",
       "  </tbody>\n",
       "</table>\n",
       "</div>"
      ],
      "text/plain": [
       "         date      time                          page_viewed  user_id  \\\n",
       "0  2018-01-26  09:55:03                                    /        1   \n",
       "1  2018-01-26  09:56:02                              java-ii        1   \n",
       "2  2018-01-26  09:56:05  java-ii/object-oriented-programming        1   \n",
       "3  2018-01-26  09:56:06   slides/object_oriented_programming        1   \n",
       "4  2018-01-26  09:56:24            javascript-i/conditionals        2   \n",
       "\n",
       "   cohort_id            ip  \n",
       "0        8.0  97.105.19.61  \n",
       "1        8.0  97.105.19.61  \n",
       "2        8.0  97.105.19.61  \n",
       "3        8.0  97.105.19.61  \n",
       "4       22.0  97.105.19.61  "
      ]
     },
     "execution_count": 25,
     "metadata": {},
     "output_type": "execute_result"
    }
   ],
   "source": [
    "df.head()"
   ]
  },
  {
   "cell_type": "code",
   "execution_count": 26,
   "metadata": {},
   "outputs": [],
   "source": [
    "df.dropna(inplace=True)\n",
    "df.cohort_id = df.cohort_id.astype('int')\n",
    "df['date'] = df.date + \" \" + df.time\n",
    "df.drop(columns=('time'), inplace=True)\n",
    "df.date = pd.to_datetime(df.date)\n",
    "df = df.set_index('date')"
   ]
  },
  {
   "cell_type": "code",
   "execution_count": 27,
   "metadata": {},
   "outputs": [
    {
     "data": {
      "text/html": [
       "<div>\n",
       "<style scoped>\n",
       "    .dataframe tbody tr th:only-of-type {\n",
       "        vertical-align: middle;\n",
       "    }\n",
       "\n",
       "    .dataframe tbody tr th {\n",
       "        vertical-align: top;\n",
       "    }\n",
       "\n",
       "    .dataframe thead th {\n",
       "        text-align: right;\n",
       "    }\n",
       "</style>\n",
       "<table border=\"1\" class=\"dataframe\">\n",
       "  <thead>\n",
       "    <tr style=\"text-align: right;\">\n",
       "      <th></th>\n",
       "      <th>page_viewed</th>\n",
       "      <th>user_id</th>\n",
       "      <th>cohort_id</th>\n",
       "      <th>ip</th>\n",
       "    </tr>\n",
       "    <tr>\n",
       "      <th>date</th>\n",
       "      <th></th>\n",
       "      <th></th>\n",
       "      <th></th>\n",
       "      <th></th>\n",
       "    </tr>\n",
       "  </thead>\n",
       "  <tbody>\n",
       "    <tr>\n",
       "      <th>2018-01-26 09:55:03</th>\n",
       "      <td>/</td>\n",
       "      <td>1</td>\n",
       "      <td>8</td>\n",
       "      <td>97.105.19.61</td>\n",
       "    </tr>\n",
       "    <tr>\n",
       "      <th>2018-01-26 09:56:02</th>\n",
       "      <td>java-ii</td>\n",
       "      <td>1</td>\n",
       "      <td>8</td>\n",
       "      <td>97.105.19.61</td>\n",
       "    </tr>\n",
       "    <tr>\n",
       "      <th>2018-01-26 09:56:05</th>\n",
       "      <td>java-ii/object-oriented-programming</td>\n",
       "      <td>1</td>\n",
       "      <td>8</td>\n",
       "      <td>97.105.19.61</td>\n",
       "    </tr>\n",
       "    <tr>\n",
       "      <th>2018-01-26 09:56:06</th>\n",
       "      <td>slides/object_oriented_programming</td>\n",
       "      <td>1</td>\n",
       "      <td>8</td>\n",
       "      <td>97.105.19.61</td>\n",
       "    </tr>\n",
       "    <tr>\n",
       "      <th>2018-01-26 09:56:24</th>\n",
       "      <td>javascript-i/conditionals</td>\n",
       "      <td>2</td>\n",
       "      <td>22</td>\n",
       "      <td>97.105.19.61</td>\n",
       "    </tr>\n",
       "  </tbody>\n",
       "</table>\n",
       "</div>"
      ],
      "text/plain": [
       "                                             page_viewed  user_id  cohort_id  \\\n",
       "date                                                                           \n",
       "2018-01-26 09:55:03                                    /        1          8   \n",
       "2018-01-26 09:56:02                              java-ii        1          8   \n",
       "2018-01-26 09:56:05  java-ii/object-oriented-programming        1          8   \n",
       "2018-01-26 09:56:06   slides/object_oriented_programming        1          8   \n",
       "2018-01-26 09:56:24            javascript-i/conditionals        2         22   \n",
       "\n",
       "                               ip  \n",
       "date                               \n",
       "2018-01-26 09:55:03  97.105.19.61  \n",
       "2018-01-26 09:56:02  97.105.19.61  \n",
       "2018-01-26 09:56:05  97.105.19.61  \n",
       "2018-01-26 09:56:06  97.105.19.61  \n",
       "2018-01-26 09:56:24  97.105.19.61  "
      ]
     },
     "execution_count": 27,
     "metadata": {},
     "output_type": "execute_result"
    }
   ],
   "source": [
    "df.head()"
   ]
  },
  {
   "cell_type": "code",
   "execution_count": 28,
   "metadata": {},
   "outputs": [
    {
     "data": {
      "text/plain": [
       "cohort_id  user_id\n",
       "1          11         2735\n",
       "           60          517\n",
       "           64         3767\n",
       "           95            9\n",
       "           141           9\n",
       "                      ... \n",
       "62         772          26\n",
       "           773         345\n",
       "           774         362\n",
       "           775         237\n",
       "           776         365\n",
       "Name: page_viewed, Length: 748, dtype: int64"
      ]
     },
     "execution_count": 28,
     "metadata": {},
     "output_type": "execute_result"
    }
   ],
   "source": [
    "df.groupby(['cohort_id', 'user_id']).page_viewed.agg('count')"
   ]
  },
  {
   "cell_type": "code",
   "execution_count": 29,
   "metadata": {},
   "outputs": [
    {
     "data": {
      "text/plain": [
       "28    60315\n",
       "33    40168\n",
       "29    37548\n",
       "53    36047\n",
       "24    35624\n",
       "57    32447\n",
       "56    31670\n",
       "22    30328\n",
       "51    29688\n",
       "58    28354\n",
       "32    28333\n",
       "23    28329\n",
       "26    27637\n",
       "52    27518\n",
       "25    25427\n",
       "31    25253\n",
       "34    25181\n",
       "59    22425\n",
       "27    20447\n",
       "55    20410\n",
       "61    11774\n",
       "14     9495\n",
       "1      8884\n",
       "62     8718\n",
       "21     7444\n",
       "17     4925\n",
       "13     2733\n",
       "18     2005\n",
       "8      1712\n",
       "19     1165\n",
       "16      743\n",
       "15      691\n",
       "7       495\n",
       "12      302\n",
       "11      208\n",
       "2        93\n",
       "6        72\n",
       "9         5\n",
       "4         4\n",
       "5         1\n",
       "Name: cohort_id, dtype: int64"
      ]
     },
     "execution_count": 29,
     "metadata": {},
     "output_type": "execute_result"
    }
   ],
   "source": [
    "df.cohort_id.value_counts()"
   ]
  },
  {
   "cell_type": "code",
   "execution_count": 30,
   "metadata": {},
   "outputs": [],
   "source": [
    "new_df = df[df.cohort_id == 28]"
   ]
  },
  {
   "cell_type": "code",
   "execution_count": 31,
   "metadata": {},
   "outputs": [
    {
     "data": {
      "text/plain": [
       "(60315, 4)"
      ]
     },
     "execution_count": 31,
     "metadata": {},
     "output_type": "execute_result"
    }
   ],
   "source": [
    "new_df.shape"
   ]
  },
  {
   "cell_type": "code",
   "execution_count": 32,
   "metadata": {},
   "outputs": [
    {
     "data": {
      "text/plain": [
       "user_id\n",
       "11     12135\n",
       "64     10627\n",
       "1       4823\n",
       "428     4505\n",
       "248     3868\n",
       "314     3253\n",
       "211     2896\n",
       "53      2677\n",
       "545     2568\n",
       "514     2043\n",
       "546     2011\n",
       "404     1668\n",
       "315     1335\n",
       "146     1216\n",
       "521     1088\n",
       "742      711\n",
       "480      412\n",
       "37       374\n",
       "502      349\n",
       "572      343\n",
       "397      305\n",
       "618      240\n",
       "41       196\n",
       "257      160\n",
       "312      131\n",
       "738       79\n",
       "539       75\n",
       "653       74\n",
       "40        66\n",
       "370       54\n",
       "620       24\n",
       "461        6\n",
       "652        1\n",
       "592        1\n",
       "745        1\n",
       "Name: page_viewed, dtype: int64"
      ]
     },
     "execution_count": 32,
     "metadata": {},
     "output_type": "execute_result"
    }
   ],
   "source": [
    "new_df.groupby(['user_id']).page_viewed.agg('count').sort_values(ascending=False)"
   ]
  },
  {
   "cell_type": "code",
   "execution_count": 33,
   "metadata": {},
   "outputs": [
    {
     "data": {
      "text/html": [
       "<div>\n",
       "<style scoped>\n",
       "    .dataframe tbody tr th:only-of-type {\n",
       "        vertical-align: middle;\n",
       "    }\n",
       "\n",
       "    .dataframe tbody tr th {\n",
       "        vertical-align: top;\n",
       "    }\n",
       "\n",
       "    .dataframe thead th {\n",
       "        text-align: right;\n",
       "    }\n",
       "</style>\n",
       "<table border=\"1\" class=\"dataframe\">\n",
       "  <thead>\n",
       "    <tr style=\"text-align: right;\">\n",
       "      <th></th>\n",
       "      <th>page_viewed</th>\n",
       "      <th>user_id</th>\n",
       "      <th>cohort_id</th>\n",
       "      <th>ip</th>\n",
       "    </tr>\n",
       "    <tr>\n",
       "      <th>date</th>\n",
       "      <th></th>\n",
       "      <th></th>\n",
       "      <th></th>\n",
       "      <th></th>\n",
       "    </tr>\n",
       "  </thead>\n",
       "  <tbody>\n",
       "    <tr>\n",
       "      <th>2018-12-06 14:15:29</th>\n",
       "      <td>appendix/further-reading/java/intellij-tomcat-...</td>\n",
       "      <td>53</td>\n",
       "      <td>28</td>\n",
       "      <td>97.105.19.58</td>\n",
       "    </tr>\n",
       "    <tr>\n",
       "      <th>2018-12-06 14:25:40</th>\n",
       "      <td>javascript-i</td>\n",
       "      <td>314</td>\n",
       "      <td>28</td>\n",
       "      <td>97.105.19.58</td>\n",
       "    </tr>\n",
       "    <tr>\n",
       "      <th>2018-12-06 14:25:41</th>\n",
       "      <td>javascript-i/coffee-project</td>\n",
       "      <td>314</td>\n",
       "      <td>28</td>\n",
       "      <td>97.105.19.58</td>\n",
       "    </tr>\n",
       "    <tr>\n",
       "      <th>2018-12-06 15:31:29</th>\n",
       "      <td>spring</td>\n",
       "      <td>40</td>\n",
       "      <td>28</td>\n",
       "      <td>170.248.173.247</td>\n",
       "    </tr>\n",
       "    <tr>\n",
       "      <th>2018-12-06 15:31:33</th>\n",
       "      <td>spring/fundamentals/security</td>\n",
       "      <td>40</td>\n",
       "      <td>28</td>\n",
       "      <td>170.248.173.247</td>\n",
       "    </tr>\n",
       "  </tbody>\n",
       "</table>\n",
       "</div>"
      ],
      "text/plain": [
       "                                                           page_viewed  \\\n",
       "date                                                                     \n",
       "2018-12-06 14:15:29  appendix/further-reading/java/intellij-tomcat-...   \n",
       "2018-12-06 14:25:40                                       javascript-i   \n",
       "2018-12-06 14:25:41                        javascript-i/coffee-project   \n",
       "2018-12-06 15:31:29                                             spring   \n",
       "2018-12-06 15:31:33                       spring/fundamentals/security   \n",
       "\n",
       "                     user_id  cohort_id               ip  \n",
       "date                                                      \n",
       "2018-12-06 14:15:29       53         28     97.105.19.58  \n",
       "2018-12-06 14:25:40      314         28     97.105.19.58  \n",
       "2018-12-06 14:25:41      314         28     97.105.19.58  \n",
       "2018-12-06 15:31:29       40         28  170.248.173.247  \n",
       "2018-12-06 15:31:33       40         28  170.248.173.247  "
      ]
     },
     "execution_count": 33,
     "metadata": {},
     "output_type": "execute_result"
    }
   ],
   "source": [
    "new_df.head()"
   ]
  },
  {
   "cell_type": "code",
   "execution_count": 34,
   "metadata": {},
   "outputs": [
    {
     "data": {
      "text/plain": [
       "<AxesSubplot:xlabel='date'>"
      ]
     },
     "execution_count": 34,
     "metadata": {},
     "output_type": "execute_result"
    },
    {
     "data": {
      "image/png": "[encoded data removed]",
      "text/plain": [
       "<Figure size 432x288 with 1 Axes>"
      ]
     },
     "metadata": {
      "needs_background": "light"
     },
     "output_type": "display_data"
    }
   ],
   "source": [
    "new_df.resample('M').user_id.agg('count').plot()"
   ]
  },
  {
   "cell_type": "code",
   "execution_count": 35,
   "metadata": {},
   "outputs": [],
   "source": [
    "newer_df = new_df[new_df.user_id == 11]"
   ]
  },
  {
   "cell_type": "code",
   "execution_count": 36,
   "metadata": {},
   "outputs": [
    {
     "data": {
      "text/plain": [
       "(12135, 4)"
      ]
     },
     "execution_count": 36,
     "metadata": {},
     "output_type": "execute_result"
    }
   ],
   "source": [
    "newer_df.shape"
   ]
  },
  {
   "cell_type": "code",
   "execution_count": 37,
   "metadata": {},
   "outputs": [
    {
     "data": {
      "text/plain": [
       "<AxesSubplot:xlabel='date'>"
      ]
     },
     "execution_count": 37,
     "metadata": {},
     "output_type": "execute_result"
    },
    {
     "data": {
      "image/png": "[encoded data removed]",
      "text/plain": [
       "<Figure size 432x288 with 1 Axes>"
      ]
     },
     "metadata": {
      "needs_background": "light"
     },
     "output_type": "display_data"
    }
   ],
   "source": [
    "newer_df.resample('M').page_viewed.agg('count').plot()"
   ]
  },
  {
   "cell_type": "code",
   "execution_count": 38,
   "metadata": {},
   "outputs": [
    {
     "data": {
      "text/plain": [
       "Timestamp('2020-11-02 16:42:06')"
      ]
     },
     "execution_count": 38,
     "metadata": {},
     "output_type": "execute_result"
    }
   ],
   "source": [
    "newer_df.index.max()"
   ]
  },
  {
   "cell_type": "code",
   "execution_count": 39,
   "metadata": {},
   "outputs": [
    {
     "data": {
      "text/plain": [
       "Timestamp('2018-12-07 09:05:02')"
      ]
     },
     "execution_count": 39,
     "metadata": {},
     "output_type": "execute_result"
    }
   ],
   "source": [
    "newer_df.index.min()"
   ]
  },
  {
   "cell_type": "code",
   "execution_count": 40,
   "metadata": {},
   "outputs": [
    {
     "data": {
      "text/plain": [
       "<AxesSubplot:xlabel='date'>"
      ]
     },
     "execution_count": 40,
     "metadata": {},
     "output_type": "execute_result"
    },
    {
     "data": {
      "image/png": "[encoded data removed]",
      "text/plain": [
       "<Figure size 432x288 with 1 Axes>"
      ]
     },
     "metadata": {
      "needs_background": "light"
     },
     "output_type": "display_data"
    }
   ],
   "source": [
    "newer_df.resample('Y').page_viewed.agg('count').plot()"
   ]
  },
  {
   "cell_type": "code",
   "execution_count": 41,
   "metadata": {},
   "outputs": [
    {
     "data": {
      "text/plain": [
       "<AxesSubplot:xlabel='date'>"
      ]
     },
     "execution_count": 41,
     "metadata": {},
     "output_type": "execute_result"
    },
    {
     "data": {
      "image/png": "[encoded data removed]",
      "text/plain": [
       "<Figure size 432x288 with 1 Axes>"
      ]
     },
     "metadata": {
      "needs_background": "light"
     },
     "output_type": "display_data"
    }
   ],
   "source": [
    "newer_df.resample('3M').page_viewed.agg('count').plot()"
   ]
  },
  {
   "cell_type": "code",
   "execution_count": 42,
   "metadata": {},
   "outputs": [
    {
     "data": {
      "text/plain": [
       "<AxesSubplot:xlabel='date'>"
      ]
     },
     "execution_count": 42,
     "metadata": {},
     "output_type": "execute_result"
    },
    {
     "data": {
      "image/png": "[encoded data removed]",
      "text/plain": [
       "<Figure size 432x288 with 1 Axes>"
      ]
     },
     "metadata": {
      "needs_background": "light"
     },
     "output_type": "display_data"
    }
   ],
   "source": [
    "newer_df.resample('2W').page_viewed.agg('count').plot()"
   ]
  },
  {
   "cell_type": "code",
   "execution_count": 43,
   "metadata": {},
   "outputs": [
    {
     "data": {
      "text/plain": [
       "97.105.19.58       5995\n",
       "76.185.145.231     3852\n",
       "76.185.131.226     1897\n",
       "76.185.142.244      238\n",
       "76.185.152.58        71\n",
       "72.128.136.219       23\n",
       "72.181.121.84        11\n",
       "192.171.117.210      11\n",
       "67.164.150.90        11\n",
       "75.1.201.239          9\n",
       "208.54.83.145         4\n",
       "75.54.33.188          2\n",
       "208.54.83.163         2\n",
       "144.178.1.46          2\n",
       "99.203.155.182        1\n",
       "99.203.155.78         1\n",
       "208.54.83.234         1\n",
       "99.203.143.2          1\n",
       "99.203.27.231         1\n",
       "172.56.15.51          1\n",
       "99.203.26.9           1\n",
       "Name: ip, dtype: int64"
      ]
     },
     "execution_count": 43,
     "metadata": {},
     "output_type": "execute_result"
    }
   ],
   "source": [
    "newer_df.ip.value_counts()"
   ]
  },
  {
   "cell_type": "code",
   "execution_count": 44,
   "metadata": {
    "scrolled": true
   },
   "outputs": [
    {
     "data": {
      "text/html": [
       "<div>\n",
       "<style scoped>\n",
       "    .dataframe tbody tr th:only-of-type {\n",
       "        vertical-align: middle;\n",
       "    }\n",
       "\n",
       "    .dataframe tbody tr th {\n",
       "        vertical-align: top;\n",
       "    }\n",
       "\n",
       "    .dataframe thead th {\n",
       "        text-align: right;\n",
       "    }\n",
       "</style>\n",
       "<table border=\"1\" class=\"dataframe\">\n",
       "  <thead>\n",
       "    <tr style=\"text-align: right;\">\n",
       "      <th></th>\n",
       "      <th>page_viewed</th>\n",
       "      <th>user_id</th>\n",
       "      <th>cohort_id</th>\n",
       "      <th>ip</th>\n",
       "    </tr>\n",
       "    <tr>\n",
       "      <th>date</th>\n",
       "      <th></th>\n",
       "      <th></th>\n",
       "      <th></th>\n",
       "      <th></th>\n",
       "    </tr>\n",
       "  </thead>\n",
       "  <tbody>\n",
       "    <tr>\n",
       "      <th>2019-09-12 03:38:02</th>\n",
       "      <td>/</td>\n",
       "      <td>11</td>\n",
       "      <td>28</td>\n",
       "      <td>76.185.131.226</td>\n",
       "    </tr>\n",
       "    <tr>\n",
       "      <th>2019-09-12 03:38:33</th>\n",
       "      <td>1-fundamentals/1.1-intro-to-data-science</td>\n",
       "      <td>11</td>\n",
       "      <td>28</td>\n",
       "      <td>76.185.131.226</td>\n",
       "    </tr>\n",
       "    <tr>\n",
       "      <th>2019-09-12 03:38:33</th>\n",
       "      <td>1-fundamentals/modern-data-scientist.jpg</td>\n",
       "      <td>11</td>\n",
       "      <td>28</td>\n",
       "      <td>76.185.131.226</td>\n",
       "    </tr>\n",
       "    <tr>\n",
       "      <th>2019-09-12 03:38:33</th>\n",
       "      <td>1-fundamentals/AI-ML-DL-timeline.jpg</td>\n",
       "      <td>11</td>\n",
       "      <td>28</td>\n",
       "      <td>76.185.131.226</td>\n",
       "    </tr>\n",
       "    <tr>\n",
       "      <th>2019-09-12 03:38:37</th>\n",
       "      <td>appendix/cli-git-overview</td>\n",
       "      <td>11</td>\n",
       "      <td>28</td>\n",
       "      <td>76.185.131.226</td>\n",
       "    </tr>\n",
       "    <tr>\n",
       "      <th>2019-09-12 03:59:33</th>\n",
       "      <td>/</td>\n",
       "      <td>11</td>\n",
       "      <td>28</td>\n",
       "      <td>76.185.131.226</td>\n",
       "    </tr>\n",
       "    <tr>\n",
       "      <th>2019-09-12 03:59:37</th>\n",
       "      <td>1-fundamentals/1.1-intro-to-data-science</td>\n",
       "      <td>11</td>\n",
       "      <td>28</td>\n",
       "      <td>76.185.131.226</td>\n",
       "    </tr>\n",
       "    <tr>\n",
       "      <th>2019-09-12 03:59:37</th>\n",
       "      <td>1-fundamentals/modern-data-scientist.jpg</td>\n",
       "      <td>11</td>\n",
       "      <td>28</td>\n",
       "      <td>76.185.131.226</td>\n",
       "    </tr>\n",
       "    <tr>\n",
       "      <th>2019-09-12 03:59:37</th>\n",
       "      <td>1-fundamentals/AI-ML-DL-timeline.jpg</td>\n",
       "      <td>11</td>\n",
       "      <td>28</td>\n",
       "      <td>76.185.131.226</td>\n",
       "    </tr>\n",
       "    <tr>\n",
       "      <th>2019-09-12 03:59:39</th>\n",
       "      <td>2-storytelling/project</td>\n",
       "      <td>11</td>\n",
       "      <td>28</td>\n",
       "      <td>76.185.131.226</td>\n",
       "    </tr>\n",
       "    <tr>\n",
       "      <th>2019-09-12 03:59:43</th>\n",
       "      <td>1-fundamentals/2.1-excel-overview</td>\n",
       "      <td>11</td>\n",
       "      <td>28</td>\n",
       "      <td>76.185.131.226</td>\n",
       "    </tr>\n",
       "    <tr>\n",
       "      <th>2019-09-12 03:59:49</th>\n",
       "      <td>1-fundamentals/1.3-pipeline-demo</td>\n",
       "      <td>11</td>\n",
       "      <td>28</td>\n",
       "      <td>76.185.131.226</td>\n",
       "    </tr>\n",
       "    <tr>\n",
       "      <th>2019-09-13 03:37:03</th>\n",
       "      <td>/</td>\n",
       "      <td>11</td>\n",
       "      <td>28</td>\n",
       "      <td>76.185.131.226</td>\n",
       "    </tr>\n",
       "  </tbody>\n",
       "</table>\n",
       "</div>"
      ],
      "text/plain": [
       "                                                  page_viewed  user_id  \\\n",
       "date                                                                     \n",
       "2019-09-12 03:38:02                                         /       11   \n",
       "2019-09-12 03:38:33  1-fundamentals/1.1-intro-to-data-science       11   \n",
       "2019-09-12 03:38:33  1-fundamentals/modern-data-scientist.jpg       11   \n",
       "2019-09-12 03:38:33      1-fundamentals/AI-ML-DL-timeline.jpg       11   \n",
       "2019-09-12 03:38:37                 appendix/cli-git-overview       11   \n",
       "2019-09-12 03:59:33                                         /       11   \n",
       "2019-09-12 03:59:37  1-fundamentals/1.1-intro-to-data-science       11   \n",
       "2019-09-12 03:59:37  1-fundamentals/modern-data-scientist.jpg       11   \n",
       "2019-09-12 03:59:37      1-fundamentals/AI-ML-DL-timeline.jpg       11   \n",
       "2019-09-12 03:59:39                    2-storytelling/project       11   \n",
       "2019-09-12 03:59:43         1-fundamentals/2.1-excel-overview       11   \n",
       "2019-09-12 03:59:49          1-fundamentals/1.3-pipeline-demo       11   \n",
       "2019-09-13 03:37:03                                         /       11   \n",
       "\n",
       "                     cohort_id              ip  \n",
       "date                                            \n",
       "2019-09-12 03:38:02         28  76.185.131.226  \n",
       "2019-09-12 03:38:33         28  76.185.131.226  \n",
       "2019-09-12 03:38:33         28  76.185.131.226  \n",
       "2019-09-12 03:38:33         28  76.185.131.226  \n",
       "2019-09-12 03:38:37         28  76.185.131.226  \n",
       "2019-09-12 03:59:33         28  76.185.131.226  \n",
       "2019-09-12 03:59:37         28  76.185.131.226  \n",
       "2019-09-12 03:59:37         28  76.185.131.226  \n",
       "2019-09-12 03:59:37         28  76.185.131.226  \n",
       "2019-09-12 03:59:39         28  76.185.131.226  \n",
       "2019-09-12 03:59:43         28  76.185.131.226  \n",
       "2019-09-12 03:59:49         28  76.185.131.226  \n",
       "2019-09-13 03:37:03         28  76.185.131.226  "
      ]
     },
     "execution_count": 44,
     "metadata": {},
     "output_type": "execute_result"
    }
   ],
   "source": [
    "newer_df[(newer_df.index.hour > 2) & (newer_df.index.hour < 4)]"
   ]
  },
  {
   "cell_type": "code",
   "execution_count": 45,
   "metadata": {},
   "outputs": [],
   "source": [
    "newer_df['day'] = newer_df.index.day_name"
   ]
  },
  {
   "cell_type": "code",
   "execution_count": 46,
   "metadata": {},
   "outputs": [
    {
     "data": {
      "text/html": [
       "<div>\n",
       "<style scoped>\n",
       "    .dataframe tbody tr th:only-of-type {\n",
       "        vertical-align: middle;\n",
       "    }\n",
       "\n",
       "    .dataframe tbody tr th {\n",
       "        vertical-align: top;\n",
       "    }\n",
       "\n",
       "    .dataframe thead th {\n",
       "        text-align: right;\n",
       "    }\n",
       "</style>\n",
       "<table border=\"1\" class=\"dataframe\">\n",
       "  <thead>\n",
       "    <tr style=\"text-align: right;\">\n",
       "      <th></th>\n",
       "      <th>page_viewed</th>\n",
       "      <th>user_id</th>\n",
       "      <th>cohort_id</th>\n",
       "      <th>ip</th>\n",
       "      <th>day</th>\n",
       "    </tr>\n",
       "    <tr>\n",
       "      <th>date</th>\n",
       "      <th></th>\n",
       "      <th></th>\n",
       "      <th></th>\n",
       "      <th></th>\n",
       "      <th></th>\n",
       "    </tr>\n",
       "  </thead>\n",
       "  <tbody>\n",
       "    <tr>\n",
       "      <th>2018-12-07 09:05:02</th>\n",
       "      <td>/</td>\n",
       "      <td>11</td>\n",
       "      <td>28</td>\n",
       "      <td>97.105.19.58</td>\n",
       "      <td>&lt;bound method inherit_from_data.&lt;locals&gt;.metho...</td>\n",
       "    </tr>\n",
       "    <tr>\n",
       "      <th>2018-12-07 09:05:05</th>\n",
       "      <td>javascript-i</td>\n",
       "      <td>11</td>\n",
       "      <td>28</td>\n",
       "      <td>97.105.19.58</td>\n",
       "      <td>&lt;bound method inherit_from_data.&lt;locals&gt;.metho...</td>\n",
       "    </tr>\n",
       "    <tr>\n",
       "      <th>2018-12-07 09:07:57</th>\n",
       "      <td>javascript-i/coffee-project</td>\n",
       "      <td>11</td>\n",
       "      <td>28</td>\n",
       "      <td>97.105.19.58</td>\n",
       "      <td>&lt;bound method inherit_from_data.&lt;locals&gt;.metho...</td>\n",
       "    </tr>\n",
       "    <tr>\n",
       "      <th>2018-12-07 14:55:06</th>\n",
       "      <td>/</td>\n",
       "      <td>11</td>\n",
       "      <td>28</td>\n",
       "      <td>97.105.19.58</td>\n",
       "      <td>&lt;bound method inherit_from_data.&lt;locals&gt;.metho...</td>\n",
       "    </tr>\n",
       "    <tr>\n",
       "      <th>2018-12-07 14:55:11</th>\n",
       "      <td>java-ii</td>\n",
       "      <td>11</td>\n",
       "      <td>28</td>\n",
       "      <td>97.105.19.58</td>\n",
       "      <td>&lt;bound method inherit_from_data.&lt;locals&gt;.metho...</td>\n",
       "    </tr>\n",
       "  </tbody>\n",
       "</table>\n",
       "</div>"
      ],
      "text/plain": [
       "                                     page_viewed  user_id  cohort_id  \\\n",
       "date                                                                   \n",
       "2018-12-07 09:05:02                            /       11         28   \n",
       "2018-12-07 09:05:05                 javascript-i       11         28   \n",
       "2018-12-07 09:07:57  javascript-i/coffee-project       11         28   \n",
       "2018-12-07 14:55:06                            /       11         28   \n",
       "2018-12-07 14:55:11                      java-ii       11         28   \n",
       "\n",
       "                               ip  \\\n",
       "date                                \n",
       "2018-12-07 09:05:02  97.105.19.58   \n",
       "2018-12-07 09:05:05  97.105.19.58   \n",
       "2018-12-07 09:07:57  97.105.19.58   \n",
       "2018-12-07 14:55:06  97.105.19.58   \n",
       "2018-12-07 14:55:11  97.105.19.58   \n",
       "\n",
       "                                                                   day  \n",
       "date                                                                    \n",
       "2018-12-07 09:05:02  <bound method inherit_from_data.<locals>.metho...  \n",
       "2018-12-07 09:05:05  <bound method inherit_from_data.<locals>.metho...  \n",
       "2018-12-07 09:07:57  <bound method inherit_from_data.<locals>.metho...  \n",
       "2018-12-07 14:55:06  <bound method inherit_from_data.<locals>.metho...  \n",
       "2018-12-07 14:55:11  <bound method inherit_from_data.<locals>.metho...  "
      ]
     },
     "execution_count": 46,
     "metadata": {},
     "output_type": "execute_result"
    }
   ],
   "source": [
    "newer_df.head()"
   ]
  },
  {
   "cell_type": "code",
   "execution_count": 47,
   "metadata": {},
   "outputs": [],
   "source": [
    "newer_df.drop(columns='day', inplace=True)"
   ]
  },
  {
   "cell_type": "code",
   "execution_count": 48,
   "metadata": {},
   "outputs": [],
   "source": [
    "newer_df['day'] = newer_df.index.day_name()"
   ]
  },
  {
   "cell_type": "code",
   "execution_count": 49,
   "metadata": {},
   "outputs": [
    {
     "data": {
      "text/html": [
       "<div>\n",
       "<style scoped>\n",
       "    .dataframe tbody tr th:only-of-type {\n",
       "        vertical-align: middle;\n",
       "    }\n",
       "\n",
       "    .dataframe tbody tr th {\n",
       "        vertical-align: top;\n",
       "    }\n",
       "\n",
       "    .dataframe thead th {\n",
       "        text-align: right;\n",
       "    }\n",
       "</style>\n",
       "<table border=\"1\" class=\"dataframe\">\n",
       "  <thead>\n",
       "    <tr style=\"text-align: right;\">\n",
       "      <th></th>\n",
       "      <th>page_viewed</th>\n",
       "      <th>user_id</th>\n",
       "      <th>cohort_id</th>\n",
       "      <th>ip</th>\n",
       "      <th>day</th>\n",
       "    </tr>\n",
       "    <tr>\n",
       "      <th>date</th>\n",
       "      <th></th>\n",
       "      <th></th>\n",
       "      <th></th>\n",
       "      <th></th>\n",
       "      <th></th>\n",
       "    </tr>\n",
       "  </thead>\n",
       "  <tbody>\n",
       "    <tr>\n",
       "      <th>2018-12-07 09:05:02</th>\n",
       "      <td>/</td>\n",
       "      <td>11</td>\n",
       "      <td>28</td>\n",
       "      <td>97.105.19.58</td>\n",
       "      <td>Friday</td>\n",
       "    </tr>\n",
       "    <tr>\n",
       "      <th>2018-12-07 09:05:05</th>\n",
       "      <td>javascript-i</td>\n",
       "      <td>11</td>\n",
       "      <td>28</td>\n",
       "      <td>97.105.19.58</td>\n",
       "      <td>Friday</td>\n",
       "    </tr>\n",
       "    <tr>\n",
       "      <th>2018-12-07 09:07:57</th>\n",
       "      <td>javascript-i/coffee-project</td>\n",
       "      <td>11</td>\n",
       "      <td>28</td>\n",
       "      <td>97.105.19.58</td>\n",
       "      <td>Friday</td>\n",
       "    </tr>\n",
       "    <tr>\n",
       "      <th>2018-12-07 14:55:06</th>\n",
       "      <td>/</td>\n",
       "      <td>11</td>\n",
       "      <td>28</td>\n",
       "      <td>97.105.19.58</td>\n",
       "      <td>Friday</td>\n",
       "    </tr>\n",
       "    <tr>\n",
       "      <th>2018-12-07 14:55:11</th>\n",
       "      <td>java-ii</td>\n",
       "      <td>11</td>\n",
       "      <td>28</td>\n",
       "      <td>97.105.19.58</td>\n",
       "      <td>Friday</td>\n",
       "    </tr>\n",
       "  </tbody>\n",
       "</table>\n",
       "</div>"
      ],
      "text/plain": [
       "                                     page_viewed  user_id  cohort_id  \\\n",
       "date                                                                   \n",
       "2018-12-07 09:05:02                            /       11         28   \n",
       "2018-12-07 09:05:05                 javascript-i       11         28   \n",
       "2018-12-07 09:07:57  javascript-i/coffee-project       11         28   \n",
       "2018-12-07 14:55:06                            /       11         28   \n",
       "2018-12-07 14:55:11                      java-ii       11         28   \n",
       "\n",
       "                               ip     day  \n",
       "date                                       \n",
       "2018-12-07 09:05:02  97.105.19.58  Friday  \n",
       "2018-12-07 09:05:05  97.105.19.58  Friday  \n",
       "2018-12-07 09:07:57  97.105.19.58  Friday  \n",
       "2018-12-07 14:55:06  97.105.19.58  Friday  \n",
       "2018-12-07 14:55:11  97.105.19.58  Friday  "
      ]
     },
     "execution_count": 49,
     "metadata": {},
     "output_type": "execute_result"
    }
   ],
   "source": [
    "newer_df.head()"
   ]
  },
  {
   "cell_type": "code",
   "execution_count": 50,
   "metadata": {},
   "outputs": [
    {
     "data": {
      "text/plain": [
       "Monday       2695\n",
       "Tuesday      2581\n",
       "Wednesday    2511\n",
       "Thursday     2122\n",
       "Friday       1663\n",
       "Sunday        372\n",
       "Saturday      191\n",
       "Name: day, dtype: int64"
      ]
     },
     "execution_count": 50,
     "metadata": {},
     "output_type": "execute_result"
    }
   ],
   "source": [
    "newer_df.day.value_counts().sort_values(ascending=False)"
   ]
  },
  {
   "cell_type": "code",
   "execution_count": 51,
   "metadata": {},
   "outputs": [
    {
     "data": {
      "text/html": [
       "<div>\n",
       "<style scoped>\n",
       "    .dataframe tbody tr th:only-of-type {\n",
       "        vertical-align: middle;\n",
       "    }\n",
       "\n",
       "    .dataframe tbody tr th {\n",
       "        vertical-align: top;\n",
       "    }\n",
       "\n",
       "    .dataframe thead th {\n",
       "        text-align: right;\n",
       "    }\n",
       "</style>\n",
       "<table border=\"1\" class=\"dataframe\">\n",
       "  <thead>\n",
       "    <tr style=\"text-align: right;\">\n",
       "      <th>day</th>\n",
       "      <th>Friday</th>\n",
       "      <th>Monday</th>\n",
       "      <th>Saturday</th>\n",
       "      <th>Sunday</th>\n",
       "      <th>Thursday</th>\n",
       "      <th>Tuesday</th>\n",
       "      <th>Wednesday</th>\n",
       "    </tr>\n",
       "    <tr>\n",
       "      <th>ip</th>\n",
       "      <th></th>\n",
       "      <th></th>\n",
       "      <th></th>\n",
       "      <th></th>\n",
       "      <th></th>\n",
       "      <th></th>\n",
       "      <th></th>\n",
       "    </tr>\n",
       "  </thead>\n",
       "  <tbody>\n",
       "    <tr>\n",
       "      <th>144.178.1.46</th>\n",
       "      <td>0</td>\n",
       "      <td>0</td>\n",
       "      <td>0</td>\n",
       "      <td>0</td>\n",
       "      <td>2</td>\n",
       "      <td>0</td>\n",
       "      <td>0</td>\n",
       "    </tr>\n",
       "    <tr>\n",
       "      <th>172.56.15.51</th>\n",
       "      <td>0</td>\n",
       "      <td>0</td>\n",
       "      <td>0</td>\n",
       "      <td>0</td>\n",
       "      <td>0</td>\n",
       "      <td>0</td>\n",
       "      <td>1</td>\n",
       "    </tr>\n",
       "    <tr>\n",
       "      <th>192.171.117.210</th>\n",
       "      <td>7</td>\n",
       "      <td>0</td>\n",
       "      <td>0</td>\n",
       "      <td>0</td>\n",
       "      <td>0</td>\n",
       "      <td>0</td>\n",
       "      <td>4</td>\n",
       "    </tr>\n",
       "    <tr>\n",
       "      <th>208.54.83.145</th>\n",
       "      <td>4</td>\n",
       "      <td>0</td>\n",
       "      <td>0</td>\n",
       "      <td>0</td>\n",
       "      <td>0</td>\n",
       "      <td>0</td>\n",
       "      <td>0</td>\n",
       "    </tr>\n",
       "    <tr>\n",
       "      <th>208.54.83.163</th>\n",
       "      <td>0</td>\n",
       "      <td>0</td>\n",
       "      <td>0</td>\n",
       "      <td>0</td>\n",
       "      <td>0</td>\n",
       "      <td>2</td>\n",
       "      <td>0</td>\n",
       "    </tr>\n",
       "    <tr>\n",
       "      <th>208.54.83.234</th>\n",
       "      <td>1</td>\n",
       "      <td>0</td>\n",
       "      <td>0</td>\n",
       "      <td>0</td>\n",
       "      <td>0</td>\n",
       "      <td>0</td>\n",
       "      <td>0</td>\n",
       "    </tr>\n",
       "    <tr>\n",
       "      <th>67.164.150.90</th>\n",
       "      <td>0</td>\n",
       "      <td>0</td>\n",
       "      <td>0</td>\n",
       "      <td>0</td>\n",
       "      <td>3</td>\n",
       "      <td>7</td>\n",
       "      <td>1</td>\n",
       "    </tr>\n",
       "    <tr>\n",
       "      <th>72.128.136.219</th>\n",
       "      <td>0</td>\n",
       "      <td>0</td>\n",
       "      <td>0</td>\n",
       "      <td>0</td>\n",
       "      <td>0</td>\n",
       "      <td>23</td>\n",
       "      <td>0</td>\n",
       "    </tr>\n",
       "    <tr>\n",
       "      <th>72.181.121.84</th>\n",
       "      <td>0</td>\n",
       "      <td>0</td>\n",
       "      <td>0</td>\n",
       "      <td>0</td>\n",
       "      <td>0</td>\n",
       "      <td>0</td>\n",
       "      <td>11</td>\n",
       "    </tr>\n",
       "    <tr>\n",
       "      <th>75.1.201.239</th>\n",
       "      <td>0</td>\n",
       "      <td>0</td>\n",
       "      <td>0</td>\n",
       "      <td>0</td>\n",
       "      <td>0</td>\n",
       "      <td>0</td>\n",
       "      <td>9</td>\n",
       "    </tr>\n",
       "    <tr>\n",
       "      <th>75.54.33.188</th>\n",
       "      <td>2</td>\n",
       "      <td>0</td>\n",
       "      <td>0</td>\n",
       "      <td>0</td>\n",
       "      <td>0</td>\n",
       "      <td>0</td>\n",
       "      <td>0</td>\n",
       "    </tr>\n",
       "    <tr>\n",
       "      <th>76.185.131.226</th>\n",
       "      <td>172</td>\n",
       "      <td>287</td>\n",
       "      <td>148</td>\n",
       "      <td>262</td>\n",
       "      <td>350</td>\n",
       "      <td>309</td>\n",
       "      <td>369</td>\n",
       "    </tr>\n",
       "    <tr>\n",
       "      <th>76.185.142.244</th>\n",
       "      <td>21</td>\n",
       "      <td>55</td>\n",
       "      <td>0</td>\n",
       "      <td>0</td>\n",
       "      <td>40</td>\n",
       "      <td>79</td>\n",
       "      <td>43</td>\n",
       "    </tr>\n",
       "    <tr>\n",
       "      <th>76.185.145.231</th>\n",
       "      <td>612</td>\n",
       "      <td>895</td>\n",
       "      <td>33</td>\n",
       "      <td>109</td>\n",
       "      <td>731</td>\n",
       "      <td>744</td>\n",
       "      <td>728</td>\n",
       "    </tr>\n",
       "    <tr>\n",
       "      <th>76.185.152.58</th>\n",
       "      <td>17</td>\n",
       "      <td>25</td>\n",
       "      <td>3</td>\n",
       "      <td>0</td>\n",
       "      <td>7</td>\n",
       "      <td>0</td>\n",
       "      <td>19</td>\n",
       "    </tr>\n",
       "    <tr>\n",
       "      <th>97.105.19.58</th>\n",
       "      <td>825</td>\n",
       "      <td>1432</td>\n",
       "      <td>7</td>\n",
       "      <td>0</td>\n",
       "      <td>989</td>\n",
       "      <td>1416</td>\n",
       "      <td>1326</td>\n",
       "    </tr>\n",
       "    <tr>\n",
       "      <th>99.203.143.2</th>\n",
       "      <td>0</td>\n",
       "      <td>1</td>\n",
       "      <td>0</td>\n",
       "      <td>0</td>\n",
       "      <td>0</td>\n",
       "      <td>0</td>\n",
       "      <td>0</td>\n",
       "    </tr>\n",
       "    <tr>\n",
       "      <th>99.203.155.182</th>\n",
       "      <td>0</td>\n",
       "      <td>0</td>\n",
       "      <td>0</td>\n",
       "      <td>0</td>\n",
       "      <td>0</td>\n",
       "      <td>1</td>\n",
       "      <td>0</td>\n",
       "    </tr>\n",
       "    <tr>\n",
       "      <th>99.203.155.78</th>\n",
       "      <td>1</td>\n",
       "      <td>0</td>\n",
       "      <td>0</td>\n",
       "      <td>0</td>\n",
       "      <td>0</td>\n",
       "      <td>0</td>\n",
       "      <td>0</td>\n",
       "    </tr>\n",
       "    <tr>\n",
       "      <th>99.203.26.9</th>\n",
       "      <td>1</td>\n",
       "      <td>0</td>\n",
       "      <td>0</td>\n",
       "      <td>0</td>\n",
       "      <td>0</td>\n",
       "      <td>0</td>\n",
       "      <td>0</td>\n",
       "    </tr>\n",
       "    <tr>\n",
       "      <th>99.203.27.231</th>\n",
       "      <td>0</td>\n",
       "      <td>0</td>\n",
       "      <td>0</td>\n",
       "      <td>1</td>\n",
       "      <td>0</td>\n",
       "      <td>0</td>\n",
       "      <td>0</td>\n",
       "    </tr>\n",
       "  </tbody>\n",
       "</table>\n",
       "</div>"
      ],
      "text/plain": [
       "day              Friday  Monday  Saturday  Sunday  Thursday  Tuesday  \\\n",
       "ip                                                                     \n",
       "144.178.1.46          0       0         0       0         2        0   \n",
       "172.56.15.51          0       0         0       0         0        0   \n",
       "192.171.117.210       7       0         0       0         0        0   \n",
       "208.54.83.145         4       0         0       0         0        0   \n",
       "208.54.83.163         0       0         0       0         0        2   \n",
       "208.54.83.234         1       0         0       0         0        0   \n",
       "67.164.150.90         0       0         0       0         3        7   \n",
       "72.128.136.219        0       0         0       0         0       23   \n",
       "72.181.121.84         0       0         0       0         0        0   \n",
       "75.1.201.239          0       0         0       0         0        0   \n",
       "75.54.33.188          2       0         0       0         0        0   \n",
       "76.185.131.226      172     287       148     262       350      309   \n",
       "76.185.142.244       21      55         0       0        40       79   \n",
       "76.185.145.231      612     895        33     109       731      744   \n",
       "76.185.152.58        17      25         3       0         7        0   \n",
       "97.105.19.58        825    1432         7       0       989     1416   \n",
       "99.203.143.2          0       1         0       0         0        0   \n",
       "99.203.155.182        0       0         0       0         0        1   \n",
       "99.203.155.78         1       0         0       0         0        0   \n",
       "99.203.26.9           1       0         0       0         0        0   \n",
       "99.203.27.231         0       0         0       1         0        0   \n",
       "\n",
       "day              Wednesday  \n",
       "ip                          \n",
       "144.178.1.46             0  \n",
       "172.56.15.51             1  \n",
       "192.171.117.210          4  \n",
       "208.54.83.145            0  \n",
       "208.54.83.163            0  \n",
       "208.54.83.234            0  \n",
       "67.164.150.90            1  \n",
       "72.128.136.219           0  \n",
       "72.181.121.84           11  \n",
       "75.1.201.239             9  \n",
       "75.54.33.188             0  \n",
       "76.185.131.226         369  \n",
       "76.185.142.244          43  \n",
       "76.185.145.231         728  \n",
       "76.185.152.58           19  \n",
       "97.105.19.58          1326  \n",
       "99.203.143.2             0  \n",
       "99.203.155.182           0  \n",
       "99.203.155.78            0  \n",
       "99.203.26.9              0  \n",
       "99.203.27.231            0  "
      ]
     },
     "execution_count": 51,
     "metadata": {},
     "output_type": "execute_result"
    }
   ],
   "source": [
    "pd.crosstab(newer_df.ip, newer_df.day)"
   ]
  },
  {
   "cell_type": "code",
   "execution_count": 52,
   "metadata": {},
   "outputs": [],
   "source": [
    "mask = newer_df.page_viewed.value_counts()\n",
    "NewDf = newer_df[newer_df['page_viewed'].isin(mask.index[mask>200])]"
   ]
  },
  {
   "cell_type": "code",
   "execution_count": 53,
   "metadata": {},
   "outputs": [
    {
     "data": {
      "text/plain": [
       "/                                                    1229\n",
       "6-regression/1-overview                               342\n",
       "10-anomaly-detection/AnomalyDetectionCartoon.jpeg     332\n",
       "10-anomaly-detection/1-overview                       332\n",
       "search/search_index.json                              305\n",
       "classification/overview                               277\n",
       "1-fundamentals/modern-data-scientist.jpg              273\n",
       "1-fundamentals/AI-ML-DL-timeline.jpg                  271\n",
       "1-fundamentals/1.1-intro-to-data-science              270\n",
       "appendix/cli-git-overview                             247\n",
       "sql/mysql-overview                                    231\n",
       "3-sql/1-mysql-overview                                231\n",
       "Name: page_viewed, dtype: int64"
      ]
     },
     "execution_count": 53,
     "metadata": {},
     "output_type": "execute_result"
    }
   ],
   "source": [
    "NewDf.page_viewed.value_counts()"
   ]
  },
  {
   "cell_type": "code",
   "execution_count": 54,
   "metadata": {},
   "outputs": [
    {
     "data": {
      "text/html": [
       "<div>\n",
       "<style scoped>\n",
       "    .dataframe tbody tr th:only-of-type {\n",
       "        vertical-align: middle;\n",
       "    }\n",
       "\n",
       "    .dataframe tbody tr th {\n",
       "        vertical-align: top;\n",
       "    }\n",
       "\n",
       "    .dataframe thead th {\n",
       "        text-align: right;\n",
       "    }\n",
       "</style>\n",
       "<table border=\"1\" class=\"dataframe\">\n",
       "  <thead>\n",
       "    <tr style=\"text-align: right;\">\n",
       "      <th></th>\n",
       "      <th>page_viewed</th>\n",
       "      <th>user_id</th>\n",
       "      <th>cohort_id</th>\n",
       "      <th>ip</th>\n",
       "      <th>day</th>\n",
       "    </tr>\n",
       "    <tr>\n",
       "      <th>date</th>\n",
       "      <th></th>\n",
       "      <th></th>\n",
       "      <th></th>\n",
       "      <th></th>\n",
       "      <th></th>\n",
       "    </tr>\n",
       "  </thead>\n",
       "  <tbody>\n",
       "    <tr>\n",
       "      <th>2018-12-07 09:05:02</th>\n",
       "      <td>/</td>\n",
       "      <td>11</td>\n",
       "      <td>28</td>\n",
       "      <td>97.105.19.58</td>\n",
       "      <td>Friday</td>\n",
       "    </tr>\n",
       "    <tr>\n",
       "      <th>2018-12-07 14:55:06</th>\n",
       "      <td>/</td>\n",
       "      <td>11</td>\n",
       "      <td>28</td>\n",
       "      <td>97.105.19.58</td>\n",
       "      <td>Friday</td>\n",
       "    </tr>\n",
       "    <tr>\n",
       "      <th>2018-12-07 15:44:37</th>\n",
       "      <td>/</td>\n",
       "      <td>11</td>\n",
       "      <td>28</td>\n",
       "      <td>97.105.19.58</td>\n",
       "      <td>Friday</td>\n",
       "    </tr>\n",
       "    <tr>\n",
       "      <th>2018-12-10 10:02:43</th>\n",
       "      <td>/</td>\n",
       "      <td>11</td>\n",
       "      <td>28</td>\n",
       "      <td>97.105.19.58</td>\n",
       "      <td>Monday</td>\n",
       "    </tr>\n",
       "    <tr>\n",
       "      <th>2018-12-12 11:27:28</th>\n",
       "      <td>/</td>\n",
       "      <td>11</td>\n",
       "      <td>28</td>\n",
       "      <td>97.105.19.58</td>\n",
       "      <td>Wednesday</td>\n",
       "    </tr>\n",
       "  </tbody>\n",
       "</table>\n",
       "</div>"
      ],
      "text/plain": [
       "                    page_viewed  user_id  cohort_id            ip        day\n",
       "date                                                                        \n",
       "2018-12-07 09:05:02           /       11         28  97.105.19.58     Friday\n",
       "2018-12-07 14:55:06           /       11         28  97.105.19.58     Friday\n",
       "2018-12-07 15:44:37           /       11         28  97.105.19.58     Friday\n",
       "2018-12-10 10:02:43           /       11         28  97.105.19.58     Monday\n",
       "2018-12-12 11:27:28           /       11         28  97.105.19.58  Wednesday"
      ]
     },
     "execution_count": 54,
     "metadata": {},
     "output_type": "execute_result"
    }
   ],
   "source": [
    "NewDf.head()"
   ]
  },
  {
   "cell_type": "code",
   "execution_count": 55,
   "metadata": {},
   "outputs": [],
   "source": [
    "NewDf = NewDf[['page_viewed']]"
   ]
  },
  {
   "cell_type": "code",
   "execution_count": 56,
   "metadata": {},
   "outputs": [
    {
     "data": {
      "text/plain": [
       "Timestamp('2018-12-07 09:05:02')"
      ]
     },
     "execution_count": 56,
     "metadata": {},
     "output_type": "execute_result"
    }
   ],
   "source": [
    "NewDf.index.min()"
   ]
  },
  {
   "cell_type": "code",
   "execution_count": 57,
   "metadata": {},
   "outputs": [
    {
     "data": {
      "text/plain": [
       "Timestamp('2020-11-02 15:41:18')"
      ]
     },
     "execution_count": 57,
     "metadata": {},
     "output_type": "execute_result"
    }
   ],
   "source": [
    "NewDf.index.max()"
   ]
  },
  {
   "cell_type": "code",
   "execution_count": 58,
   "metadata": {},
   "outputs": [],
   "source": [
    "train = NewDf[:'2020-06-30 22:52:12 ']\n",
    "validate = NewDf['2020-07-01 22:52:13':'2020-09-01 00:00:00']\n",
    "test = NewDf['2020-09-02 00:00:01':]"
   ]
  },
  {
   "cell_type": "code",
   "execution_count": 59,
   "metadata": {},
   "outputs": [
    {
     "data": {
      "text/plain": [
       "((3164, 1), (687, 1), (456, 1))"
      ]
     },
     "execution_count": 59,
     "metadata": {},
     "output_type": "execute_result"
    }
   ],
   "source": [
    "train.shape, validate.shape, test.shape"
   ]
  },
  {
   "cell_type": "code",
   "execution_count": 60,
   "metadata": {},
   "outputs": [],
   "source": [
    "page_df = pd.DataFrame(NewDf.page_viewed.value_counts(dropna=False)).reset_index().\\\n",
    "                rename(index=str, columns={'index': 'page_viewed', 'page_viewed': 'page_viewed_count'})\n",
    "page_df2 = pd.DataFrame(NewDf.page_viewed.value_counts(dropna=False)/NewDf.page_viewed.count()).reset_index().\\\n",
    "                rename(index=str, columns={'index': 'page_viewed', 'page_viewed': 'page_proba'})\n",
    "page_df = page_df.merge(page_df2)"
   ]
  },
  {
   "cell_type": "code",
   "execution_count": 61,
   "metadata": {},
   "outputs": [
    {
     "data": {
      "text/html": [
       "<div>\n",
       "<style scoped>\n",
       "    .dataframe tbody tr th:only-of-type {\n",
       "        vertical-align: middle;\n",
       "    }\n",
       "\n",
       "    .dataframe tbody tr th {\n",
       "        vertical-align: top;\n",
       "    }\n",
       "\n",
       "    .dataframe thead th {\n",
       "        text-align: right;\n",
       "    }\n",
       "</style>\n",
       "<table border=\"1\" class=\"dataframe\">\n",
       "  <thead>\n",
       "    <tr style=\"text-align: right;\">\n",
       "      <th></th>\n",
       "      <th>page_viewed</th>\n",
       "      <th>page_viewed_count</th>\n",
       "      <th>page_proba</th>\n",
       "    </tr>\n",
       "  </thead>\n",
       "  <tbody>\n",
       "    <tr>\n",
       "      <th>0</th>\n",
       "      <td>/</td>\n",
       "      <td>1229</td>\n",
       "      <td>0.283180</td>\n",
       "    </tr>\n",
       "    <tr>\n",
       "      <th>1</th>\n",
       "      <td>6-regression/1-overview</td>\n",
       "      <td>342</td>\n",
       "      <td>0.078802</td>\n",
       "    </tr>\n",
       "    <tr>\n",
       "      <th>2</th>\n",
       "      <td>10-anomaly-detection/AnomalyDetectionCartoon.jpeg</td>\n",
       "      <td>332</td>\n",
       "      <td>0.076498</td>\n",
       "    </tr>\n",
       "    <tr>\n",
       "      <th>3</th>\n",
       "      <td>10-anomaly-detection/1-overview</td>\n",
       "      <td>332</td>\n",
       "      <td>0.076498</td>\n",
       "    </tr>\n",
       "    <tr>\n",
       "      <th>4</th>\n",
       "      <td>search/search_index.json</td>\n",
       "      <td>305</td>\n",
       "      <td>0.070276</td>\n",
       "    </tr>\n",
       "    <tr>\n",
       "      <th>5</th>\n",
       "      <td>classification/overview</td>\n",
       "      <td>277</td>\n",
       "      <td>0.063825</td>\n",
       "    </tr>\n",
       "    <tr>\n",
       "      <th>6</th>\n",
       "      <td>1-fundamentals/modern-data-scientist.jpg</td>\n",
       "      <td>273</td>\n",
       "      <td>0.062903</td>\n",
       "    </tr>\n",
       "    <tr>\n",
       "      <th>7</th>\n",
       "      <td>1-fundamentals/AI-ML-DL-timeline.jpg</td>\n",
       "      <td>271</td>\n",
       "      <td>0.062442</td>\n",
       "    </tr>\n",
       "    <tr>\n",
       "      <th>8</th>\n",
       "      <td>1-fundamentals/1.1-intro-to-data-science</td>\n",
       "      <td>270</td>\n",
       "      <td>0.062212</td>\n",
       "    </tr>\n",
       "    <tr>\n",
       "      <th>9</th>\n",
       "      <td>appendix/cli-git-overview</td>\n",
       "      <td>247</td>\n",
       "      <td>0.056912</td>\n",
       "    </tr>\n",
       "    <tr>\n",
       "      <th>10</th>\n",
       "      <td>sql/mysql-overview</td>\n",
       "      <td>231</td>\n",
       "      <td>0.053226</td>\n",
       "    </tr>\n",
       "    <tr>\n",
       "      <th>11</th>\n",
       "      <td>3-sql/1-mysql-overview</td>\n",
       "      <td>231</td>\n",
       "      <td>0.053226</td>\n",
       "    </tr>\n",
       "  </tbody>\n",
       "</table>\n",
       "</div>"
      ],
      "text/plain": [
       "                                          page_viewed  page_viewed_count  \\\n",
       "0                                                   /               1229   \n",
       "1                             6-regression/1-overview                342   \n",
       "2   10-anomaly-detection/AnomalyDetectionCartoon.jpeg                332   \n",
       "3                     10-anomaly-detection/1-overview                332   \n",
       "4                            search/search_index.json                305   \n",
       "5                             classification/overview                277   \n",
       "6            1-fundamentals/modern-data-scientist.jpg                273   \n",
       "7                1-fundamentals/AI-ML-DL-timeline.jpg                271   \n",
       "8            1-fundamentals/1.1-intro-to-data-science                270   \n",
       "9                           appendix/cli-git-overview                247   \n",
       "10                                 sql/mysql-overview                231   \n",
       "11                             3-sql/1-mysql-overview                231   \n",
       "\n",
       "    page_proba  \n",
       "0     0.283180  \n",
       "1     0.078802  \n",
       "2     0.076498  \n",
       "3     0.076498  \n",
       "4     0.070276  \n",
       "5     0.063825  \n",
       "6     0.062903  \n",
       "7     0.062442  \n",
       "8     0.062212  \n",
       "9     0.056912  \n",
       "10    0.053226  \n",
       "11    0.053226  "
      ]
     },
     "execution_count": 61,
     "metadata": {},
     "output_type": "execute_result"
    }
   ],
   "source": [
    "page_df"
   ]
  },
  {
   "cell_type": "code",
   "execution_count": 62,
   "metadata": {},
   "outputs": [
    {
     "data": {
      "text/html": [
       "<div>\n",
       "<style scoped>\n",
       "    .dataframe tbody tr th:only-of-type {\n",
       "        vertical-align: middle;\n",
       "    }\n",
       "\n",
       "    .dataframe tbody tr th {\n",
       "        vertical-align: top;\n",
       "    }\n",
       "\n",
       "    .dataframe thead th {\n",
       "        text-align: right;\n",
       "    }\n",
       "</style>\n",
       "<table border=\"1\" class=\"dataframe\">\n",
       "  <thead>\n",
       "    <tr style=\"text-align: right;\">\n",
       "      <th></th>\n",
       "      <th>page_viewed</th>\n",
       "      <th>user_id</th>\n",
       "      <th>cohort_id</th>\n",
       "      <th>ip</th>\n",
       "    </tr>\n",
       "    <tr>\n",
       "      <th>date</th>\n",
       "      <th></th>\n",
       "      <th></th>\n",
       "      <th></th>\n",
       "      <th></th>\n",
       "    </tr>\n",
       "  </thead>\n",
       "  <tbody>\n",
       "    <tr>\n",
       "      <th>2018-12-06 14:15:29</th>\n",
       "      <td>appendix/further-reading/java/intellij-tomcat-...</td>\n",
       "      <td>53</td>\n",
       "      <td>28</td>\n",
       "      <td>97.105.19.58</td>\n",
       "    </tr>\n",
       "    <tr>\n",
       "      <th>2018-12-06 14:25:40</th>\n",
       "      <td>javascript-i</td>\n",
       "      <td>314</td>\n",
       "      <td>28</td>\n",
       "      <td>97.105.19.58</td>\n",
       "    </tr>\n",
       "    <tr>\n",
       "      <th>2018-12-06 14:25:41</th>\n",
       "      <td>javascript-i/coffee-project</td>\n",
       "      <td>314</td>\n",
       "      <td>28</td>\n",
       "      <td>97.105.19.58</td>\n",
       "    </tr>\n",
       "    <tr>\n",
       "      <th>2018-12-06 15:31:29</th>\n",
       "      <td>spring</td>\n",
       "      <td>40</td>\n",
       "      <td>28</td>\n",
       "      <td>170.248.173.247</td>\n",
       "    </tr>\n",
       "    <tr>\n",
       "      <th>2018-12-06 15:31:33</th>\n",
       "      <td>spring/fundamentals/security</td>\n",
       "      <td>40</td>\n",
       "      <td>28</td>\n",
       "      <td>170.248.173.247</td>\n",
       "    </tr>\n",
       "  </tbody>\n",
       "</table>\n",
       "</div>"
      ],
      "text/plain": [
       "                                                           page_viewed  \\\n",
       "date                                                                     \n",
       "2018-12-06 14:15:29  appendix/further-reading/java/intellij-tomcat-...   \n",
       "2018-12-06 14:25:40                                       javascript-i   \n",
       "2018-12-06 14:25:41                        javascript-i/coffee-project   \n",
       "2018-12-06 15:31:29                                             spring   \n",
       "2018-12-06 15:31:33                       spring/fundamentals/security   \n",
       "\n",
       "                     user_id  cohort_id               ip  \n",
       "date                                                      \n",
       "2018-12-06 14:15:29       53         28     97.105.19.58  \n",
       "2018-12-06 14:25:40      314         28     97.105.19.58  \n",
       "2018-12-06 14:25:41      314         28     97.105.19.58  \n",
       "2018-12-06 15:31:29       40         28  170.248.173.247  \n",
       "2018-12-06 15:31:33       40         28  170.248.173.247  "
      ]
     },
     "execution_count": 62,
     "metadata": {},
     "output_type": "execute_result"
    }
   ],
   "source": [
    "new_df.head()"
   ]
  },
  {
   "cell_type": "code",
   "execution_count": 63,
   "metadata": {},
   "outputs": [],
   "source": [
    "newdf = newer_df[['page_viewed']]"
   ]
  },
  {
   "cell_type": "code",
   "execution_count": 64,
   "metadata": {},
   "outputs": [],
   "source": [
    "page_df = pd.DataFrame(newdf.page_viewed.value_counts(dropna=False)).reset_index().\\\n",
    "                rename(index=str, columns={'index': 'page_viewed', 'page_viewed': 'page_viewed_count'})\n",
    "page_df2 = pd.DataFrame(newdf.page_viewed.value_counts(dropna=False)/newdf.page_viewed.count()).reset_index().\\\n",
    "                rename(index=str, columns={'index': 'page_viewed', 'page_viewed': 'page_proba'})\n",
    "page_df = page_df.merge(page_df2)"
   ]
  },
  {
   "cell_type": "code",
   "execution_count": 65,
   "metadata": {},
   "outputs": [
    {
     "data": {
      "text/html": [
       "<div>\n",
       "<style scoped>\n",
       "    .dataframe tbody tr th:only-of-type {\n",
       "        vertical-align: middle;\n",
       "    }\n",
       "\n",
       "    .dataframe tbody tr th {\n",
       "        vertical-align: top;\n",
       "    }\n",
       "\n",
       "    .dataframe thead th {\n",
       "        text-align: right;\n",
       "    }\n",
       "</style>\n",
       "<table border=\"1\" class=\"dataframe\">\n",
       "  <thead>\n",
       "    <tr style=\"text-align: right;\">\n",
       "      <th></th>\n",
       "      <th>page_viewed</th>\n",
       "      <th>page_viewed_count</th>\n",
       "      <th>page_proba</th>\n",
       "    </tr>\n",
       "  </thead>\n",
       "  <tbody>\n",
       "    <tr>\n",
       "      <th>0</th>\n",
       "      <td>/</td>\n",
       "      <td>1229</td>\n",
       "      <td>0.101277</td>\n",
       "    </tr>\n",
       "    <tr>\n",
       "      <th>1</th>\n",
       "      <td>6-regression/1-overview</td>\n",
       "      <td>342</td>\n",
       "      <td>0.028183</td>\n",
       "    </tr>\n",
       "    <tr>\n",
       "      <th>2</th>\n",
       "      <td>10-anomaly-detection/1-overview</td>\n",
       "      <td>332</td>\n",
       "      <td>0.027359</td>\n",
       "    </tr>\n",
       "    <tr>\n",
       "      <th>3</th>\n",
       "      <td>10-anomaly-detection/AnomalyDetectionCartoon.jpeg</td>\n",
       "      <td>332</td>\n",
       "      <td>0.027359</td>\n",
       "    </tr>\n",
       "    <tr>\n",
       "      <th>4</th>\n",
       "      <td>search/search_index.json</td>\n",
       "      <td>305</td>\n",
       "      <td>0.025134</td>\n",
       "    </tr>\n",
       "    <tr>\n",
       "      <th>...</th>\n",
       "      <td>...</td>\n",
       "      <td>...</td>\n",
       "      <td>...</td>\n",
       "    </tr>\n",
       "    <tr>\n",
       "      <th>762</th>\n",
       "      <td>prework/cli</td>\n",
       "      <td>1</td>\n",
       "      <td>0.000082</td>\n",
       "    </tr>\n",
       "    <tr>\n",
       "      <th>763</th>\n",
       "      <td>sequel-pro</td>\n",
       "      <td>1</td>\n",
       "      <td>0.000082</td>\n",
       "    </tr>\n",
       "    <tr>\n",
       "      <th>764</th>\n",
       "      <td>7._Clustering</td>\n",
       "      <td>1</td>\n",
       "      <td>0.000082</td>\n",
       "    </tr>\n",
       "    <tr>\n",
       "      <th>765</th>\n",
       "      <td>appendix/further-reading/javascript/hoisting</td>\n",
       "      <td>1</td>\n",
       "      <td>0.000082</td>\n",
       "    </tr>\n",
       "    <tr>\n",
       "      <th>766</th>\n",
       "      <td>6.04.06_RandomForest</td>\n",
       "      <td>1</td>\n",
       "      <td>0.000082</td>\n",
       "    </tr>\n",
       "  </tbody>\n",
       "</table>\n",
       "<p>767 rows × 3 columns</p>\n",
       "</div>"
      ],
      "text/plain": [
       "                                           page_viewed  page_viewed_count  \\\n",
       "0                                                    /               1229   \n",
       "1                              6-regression/1-overview                342   \n",
       "2                      10-anomaly-detection/1-overview                332   \n",
       "3    10-anomaly-detection/AnomalyDetectionCartoon.jpeg                332   \n",
       "4                             search/search_index.json                305   \n",
       "..                                                 ...                ...   \n",
       "762                                        prework/cli                  1   \n",
       "763                                         sequel-pro                  1   \n",
       "764                                      7._Clustering                  1   \n",
       "765       appendix/further-reading/javascript/hoisting                  1   \n",
       "766                               6.04.06_RandomForest                  1   \n",
       "\n",
       "     page_proba  \n",
       "0      0.101277  \n",
       "1      0.028183  \n",
       "2      0.027359  \n",
       "3      0.027359  \n",
       "4      0.025134  \n",
       "..          ...  \n",
       "762    0.000082  \n",
       "763    0.000082  \n",
       "764    0.000082  \n",
       "765    0.000082  \n",
       "766    0.000082  \n",
       "\n",
       "[767 rows x 3 columns]"
      ]
     },
     "execution_count": 65,
     "metadata": {},
     "output_type": "execute_result"
    }
   ],
   "source": [
    "page_df"
   ]
  },
  {
   "cell_type": "code",
   "execution_count": 66,
   "metadata": {},
   "outputs": [
    {
     "data": {
      "text/html": [
       "<div>\n",
       "<style scoped>\n",
       "    .dataframe tbody tr th:only-of-type {\n",
       "        vertical-align: middle;\n",
       "    }\n",
       "\n",
       "    .dataframe tbody tr th {\n",
       "        vertical-align: top;\n",
       "    }\n",
       "\n",
       "    .dataframe thead th {\n",
       "        text-align: right;\n",
       "    }\n",
       "</style>\n",
       "<table border=\"1\" class=\"dataframe\">\n",
       "  <thead>\n",
       "    <tr style=\"text-align: right;\">\n",
       "      <th></th>\n",
       "      <th>page_viewed</th>\n",
       "      <th>page_viewed_count</th>\n",
       "      <th>page_proba</th>\n",
       "    </tr>\n",
       "  </thead>\n",
       "  <tbody>\n",
       "    <tr>\n",
       "      <th>13</th>\n",
       "      <td>1._Fundamentals</td>\n",
       "      <td>102</td>\n",
       "      <td>0.008405</td>\n",
       "    </tr>\n",
       "    <tr>\n",
       "      <th>14</th>\n",
       "      <td>3.0-mysql-overview</td>\n",
       "      <td>98</td>\n",
       "      <td>0.008076</td>\n",
       "    </tr>\n",
       "    <tr>\n",
       "      <th>15</th>\n",
       "      <td>Intro_to_Regression_Module</td>\n",
       "      <td>95</td>\n",
       "      <td>0.007829</td>\n",
       "    </tr>\n",
       "    <tr>\n",
       "      <th>16</th>\n",
       "      <td>javascript-i</td>\n",
       "      <td>86</td>\n",
       "      <td>0.007087</td>\n",
       "    </tr>\n",
       "    <tr>\n",
       "      <th>17</th>\n",
       "      <td>html-css</td>\n",
       "      <td>84</td>\n",
       "      <td>0.006922</td>\n",
       "    </tr>\n",
       "    <tr>\n",
       "      <th>...</th>\n",
       "      <td>...</td>\n",
       "      <td>...</td>\n",
       "      <td>...</td>\n",
       "    </tr>\n",
       "    <tr>\n",
       "      <th>762</th>\n",
       "      <td>prework/cli</td>\n",
       "      <td>1</td>\n",
       "      <td>0.000082</td>\n",
       "    </tr>\n",
       "    <tr>\n",
       "      <th>763</th>\n",
       "      <td>sequel-pro</td>\n",
       "      <td>1</td>\n",
       "      <td>0.000082</td>\n",
       "    </tr>\n",
       "    <tr>\n",
       "      <th>764</th>\n",
       "      <td>7._Clustering</td>\n",
       "      <td>1</td>\n",
       "      <td>0.000082</td>\n",
       "    </tr>\n",
       "    <tr>\n",
       "      <th>765</th>\n",
       "      <td>appendix/further-reading/javascript/hoisting</td>\n",
       "      <td>1</td>\n",
       "      <td>0.000082</td>\n",
       "    </tr>\n",
       "    <tr>\n",
       "      <th>766</th>\n",
       "      <td>6.04.06_RandomForest</td>\n",
       "      <td>1</td>\n",
       "      <td>0.000082</td>\n",
       "    </tr>\n",
       "  </tbody>\n",
       "</table>\n",
       "<p>754 rows × 3 columns</p>\n",
       "</div>"
      ],
      "text/plain": [
       "                                      page_viewed  page_viewed_count  \\\n",
       "13                                1._Fundamentals                102   \n",
       "14                             3.0-mysql-overview                 98   \n",
       "15                     Intro_to_Regression_Module                 95   \n",
       "16                                   javascript-i                 86   \n",
       "17                                       html-css                 84   \n",
       "..                                            ...                ...   \n",
       "762                                   prework/cli                  1   \n",
       "763                                    sequel-pro                  1   \n",
       "764                                 7._Clustering                  1   \n",
       "765  appendix/further-reading/javascript/hoisting                  1   \n",
       "766                          6.04.06_RandomForest                  1   \n",
       "\n",
       "     page_proba  \n",
       "13     0.008405  \n",
       "14     0.008076  \n",
       "15     0.007829  \n",
       "16     0.007087  \n",
       "17     0.006922  \n",
       "..          ...  \n",
       "762    0.000082  \n",
       "763    0.000082  \n",
       "764    0.000082  \n",
       "765    0.000082  \n",
       "766    0.000082  \n",
       "\n",
       "[754 rows x 3 columns]"
      ]
     },
     "execution_count": 66,
     "metadata": {},
     "output_type": "execute_result"
    }
   ],
   "source": [
    "page_df[page_df.page_proba < .01]\n"
   ]
  },
  {
   "cell_type": "code",
   "execution_count": 67,
   "metadata": {},
   "outputs": [
    {
     "name": "stdout",
     "output_type": "stream",
     "text": [
      "767\n",
      "                                      page_viewed  page_viewed_count  \\\n",
      "757                           7-clustering/dbscan                  1   \n",
      "758                        distributed-ml/explore                  1   \n",
      "759   jquery/essential-methods/attributes-and-css                  1   \n",
      "760                                Correlation.md                  1   \n",
      "761    appendix/further-reading/spring/pagination                  1   \n",
      "762                                   prework/cli                  1   \n",
      "763                                    sequel-pro                  1   \n",
      "764                                 7._Clustering                  1   \n",
      "765  appendix/further-reading/javascript/hoisting                  1   \n",
      "766                          6.04.06_RandomForest                  1   \n",
      "\n",
      "     page_proba  \n",
      "757    0.000082  \n",
      "758    0.000082  \n",
      "759    0.000082  \n",
      "760    0.000082  \n",
      "761    0.000082  \n",
      "762    0.000082  \n",
      "763    0.000082  \n",
      "764    0.000082  \n",
      "765    0.000082  \n",
      "766    0.000082  \n"
     ]
    },
    {
     "data": {
      "image/png": "[encoded data removed]",
      "text/plain": [
       "<Figure size 1440x576 with 1 Axes>"
      ]
     },
     "metadata": {
      "needs_background": "light"
     },
     "output_type": "display_data"
    }
   ],
   "source": [
    "print(len(page_df))\n",
    "\n",
    "print(page_df.tail(10))\n",
    "\n",
    "plt.figure(figsize=(20, 8))\n",
    "splot = sns.barplot(data=page_df, x = 'page_viewed', y = 'page_viewed_count', ci = None)\n",
    "for p in splot.patches:\n",
    "    splot.annotate(format(p.get_height(), '.0f'), \n",
    "                   (p.get_x() + p.get_width() / 2., p.get_height()), \n",
    "                   ha = 'center', va = 'center', xytext = (0, 10), \n",
    "                   textcoords = 'offset points'\n",
    "                   )\n",
    "    plt.xticks(rotation='vertical')"
   ]
  },
  {
   "cell_type": "markdown",
   "metadata": {},
   "source": [
    "**Detecting anomalies by establishing a baseline and evaluate as new data arrives.**"
   ]
  },
  {
   "cell_type": "code",
   "execution_count": 68,
   "metadata": {},
   "outputs": [],
   "source": [
    "page_df = pd.DataFrame(train.page_viewed.value_counts(dropna=False)/train.page_viewed.count()).reset_index().\\\n",
    "                rename(index=str, columns={'index': 'page_viewed', 'page_viewed': 'page_viewed_proba'})"
   ]
  },
  {
   "cell_type": "code",
   "execution_count": 69,
   "metadata": {
    "scrolled": true
   },
   "outputs": [
    {
     "data": {
      "text/html": [
       "<div>\n",
       "<style scoped>\n",
       "    .dataframe tbody tr th:only-of-type {\n",
       "        vertical-align: middle;\n",
       "    }\n",
       "\n",
       "    .dataframe tbody tr th {\n",
       "        vertical-align: top;\n",
       "    }\n",
       "\n",
       "    .dataframe thead th {\n",
       "        text-align: right;\n",
       "    }\n",
       "</style>\n",
       "<table border=\"1\" class=\"dataframe\">\n",
       "  <thead>\n",
       "    <tr style=\"text-align: right;\">\n",
       "      <th></th>\n",
       "      <th>page_viewed</th>\n",
       "      <th>page_viewed_proba</th>\n",
       "    </tr>\n",
       "  </thead>\n",
       "  <tbody>\n",
       "    <tr>\n",
       "      <th>0</th>\n",
       "      <td>/</td>\n",
       "      <td>0.296460</td>\n",
       "    </tr>\n",
       "    <tr>\n",
       "      <th>1</th>\n",
       "      <td>6-regression/1-overview</td>\n",
       "      <td>0.105247</td>\n",
       "    </tr>\n",
       "    <tr>\n",
       "      <th>2</th>\n",
       "      <td>10-anomaly-detection/AnomalyDetectionCartoon.jpeg</td>\n",
       "      <td>0.100506</td>\n",
       "    </tr>\n",
       "    <tr>\n",
       "      <th>3</th>\n",
       "      <td>10-anomaly-detection/1-overview</td>\n",
       "      <td>0.100506</td>\n",
       "    </tr>\n",
       "    <tr>\n",
       "      <th>4</th>\n",
       "      <td>search/search_index.json</td>\n",
       "      <td>0.082491</td>\n",
       "    </tr>\n",
       "    <tr>\n",
       "      <th>5</th>\n",
       "      <td>appendix/cli-git-overview</td>\n",
       "      <td>0.071429</td>\n",
       "    </tr>\n",
       "    <tr>\n",
       "      <th>6</th>\n",
       "      <td>1-fundamentals/modern-data-scientist.jpg</td>\n",
       "      <td>0.065107</td>\n",
       "    </tr>\n",
       "    <tr>\n",
       "      <th>7</th>\n",
       "      <td>1-fundamentals/1.1-intro-to-data-science</td>\n",
       "      <td>0.064791</td>\n",
       "    </tr>\n",
       "    <tr>\n",
       "      <th>8</th>\n",
       "      <td>1-fundamentals/AI-ML-DL-timeline.jpg</td>\n",
       "      <td>0.064475</td>\n",
       "    </tr>\n",
       "    <tr>\n",
       "      <th>9</th>\n",
       "      <td>3-sql/1-mysql-overview</td>\n",
       "      <td>0.048989</td>\n",
       "    </tr>\n",
       "  </tbody>\n",
       "</table>\n",
       "</div>"
      ],
      "text/plain": [
       "                                         page_viewed  page_viewed_proba\n",
       "0                                                  /           0.296460\n",
       "1                            6-regression/1-overview           0.105247\n",
       "2  10-anomaly-detection/AnomalyDetectionCartoon.jpeg           0.100506\n",
       "3                    10-anomaly-detection/1-overview           0.100506\n",
       "4                           search/search_index.json           0.082491\n",
       "5                          appendix/cli-git-overview           0.071429\n",
       "6           1-fundamentals/modern-data-scientist.jpg           0.065107\n",
       "7           1-fundamentals/1.1-intro-to-data-science           0.064791\n",
       "8               1-fundamentals/AI-ML-DL-timeline.jpg           0.064475\n",
       "9                             3-sql/1-mysql-overview           0.048989"
      ]
     },
     "execution_count": 69,
     "metadata": {},
     "output_type": "execute_result"
    }
   ],
   "source": [
    "page_df"
   ]
  },
  {
   "cell_type": "code",
   "execution_count": 70,
   "metadata": {},
   "outputs": [
    {
     "data": {
      "text/html": [
       "<div>\n",
       "<style scoped>\n",
       "    .dataframe tbody tr th:only-of-type {\n",
       "        vertical-align: middle;\n",
       "    }\n",
       "\n",
       "    .dataframe tbody tr th {\n",
       "        vertical-align: top;\n",
       "    }\n",
       "\n",
       "    .dataframe thead th {\n",
       "        text-align: right;\n",
       "    }\n",
       "</style>\n",
       "<table border=\"1\" class=\"dataframe\">\n",
       "  <thead>\n",
       "    <tr style=\"text-align: right;\">\n",
       "      <th></th>\n",
       "      <th>page_viewed</th>\n",
       "      <th>user_id</th>\n",
       "      <th>cohort_id</th>\n",
       "      <th>ip</th>\n",
       "      <th>day</th>\n",
       "    </tr>\n",
       "    <tr>\n",
       "      <th>date</th>\n",
       "      <th></th>\n",
       "      <th></th>\n",
       "      <th></th>\n",
       "      <th></th>\n",
       "      <th></th>\n",
       "    </tr>\n",
       "  </thead>\n",
       "  <tbody>\n",
       "    <tr>\n",
       "      <th>2018-12-07 09:05:02</th>\n",
       "      <td>/</td>\n",
       "      <td>11</td>\n",
       "      <td>28</td>\n",
       "      <td>97.105.19.58</td>\n",
       "      <td>Friday</td>\n",
       "    </tr>\n",
       "    <tr>\n",
       "      <th>2018-12-07 09:05:05</th>\n",
       "      <td>javascript-i</td>\n",
       "      <td>11</td>\n",
       "      <td>28</td>\n",
       "      <td>97.105.19.58</td>\n",
       "      <td>Friday</td>\n",
       "    </tr>\n",
       "    <tr>\n",
       "      <th>2018-12-07 09:07:57</th>\n",
       "      <td>javascript-i/coffee-project</td>\n",
       "      <td>11</td>\n",
       "      <td>28</td>\n",
       "      <td>97.105.19.58</td>\n",
       "      <td>Friday</td>\n",
       "    </tr>\n",
       "    <tr>\n",
       "      <th>2018-12-07 14:55:06</th>\n",
       "      <td>/</td>\n",
       "      <td>11</td>\n",
       "      <td>28</td>\n",
       "      <td>97.105.19.58</td>\n",
       "      <td>Friday</td>\n",
       "    </tr>\n",
       "    <tr>\n",
       "      <th>2018-12-07 14:55:11</th>\n",
       "      <td>java-ii</td>\n",
       "      <td>11</td>\n",
       "      <td>28</td>\n",
       "      <td>97.105.19.58</td>\n",
       "      <td>Friday</td>\n",
       "    </tr>\n",
       "  </tbody>\n",
       "</table>\n",
       "</div>"
      ],
      "text/plain": [
       "                                     page_viewed  user_id  cohort_id  \\\n",
       "date                                                                   \n",
       "2018-12-07 09:05:02                            /       11         28   \n",
       "2018-12-07 09:05:05                 javascript-i       11         28   \n",
       "2018-12-07 09:07:57  javascript-i/coffee-project       11         28   \n",
       "2018-12-07 14:55:06                            /       11         28   \n",
       "2018-12-07 14:55:11                      java-ii       11         28   \n",
       "\n",
       "                               ip     day  \n",
       "date                                       \n",
       "2018-12-07 09:05:02  97.105.19.58  Friday  \n",
       "2018-12-07 09:05:05  97.105.19.58  Friday  \n",
       "2018-12-07 09:07:57  97.105.19.58  Friday  \n",
       "2018-12-07 14:55:06  97.105.19.58  Friday  \n",
       "2018-12-07 14:55:11  97.105.19.58  Friday  "
      ]
     },
     "execution_count": 70,
     "metadata": {},
     "output_type": "execute_result"
    }
   ],
   "source": [
    "newer_df.head()"
   ]
  },
  {
   "cell_type": "code",
   "execution_count": 71,
   "metadata": {},
   "outputs": [
    {
     "data": {
      "text/plain": [
       "0.000000    8303\n",
       "0.296460    1229\n",
       "0.100506     664\n",
       "0.105247     342\n",
       "0.082491     305\n",
       "0.065107     273\n",
       "0.064475     271\n",
       "0.064791     270\n",
       "0.071429     247\n",
       "0.048989     231\n",
       "Name: page_viewed_proba, dtype: int64"
      ]
     },
     "execution_count": 71,
     "metadata": {},
     "output_type": "execute_result"
    }
   ],
   "source": [
    "newer_df = newer_df.reset_index().merge(page_df, on=['page_viewed'], how='left').fillna(value=0).set_index('date')\n",
    "newer_df.page_viewed_proba.value_counts()"
   ]
  },
  {
   "cell_type": "code",
   "execution_count": 72,
   "metadata": {},
   "outputs": [
    {
     "data": {
      "text/html": [
       "<div>\n",
       "<style scoped>\n",
       "    .dataframe tbody tr th:only-of-type {\n",
       "        vertical-align: middle;\n",
       "    }\n",
       "\n",
       "    .dataframe tbody tr th {\n",
       "        vertical-align: top;\n",
       "    }\n",
       "\n",
       "    .dataframe thead th {\n",
       "        text-align: right;\n",
       "    }\n",
       "</style>\n",
       "<table border=\"1\" class=\"dataframe\">\n",
       "  <thead>\n",
       "    <tr style=\"text-align: right;\">\n",
       "      <th></th>\n",
       "      <th>page_viewed</th>\n",
       "      <th>user_id</th>\n",
       "      <th>cohort_id</th>\n",
       "      <th>ip</th>\n",
       "      <th>day</th>\n",
       "      <th>page_viewed_proba</th>\n",
       "    </tr>\n",
       "    <tr>\n",
       "      <th>date</th>\n",
       "      <th></th>\n",
       "      <th></th>\n",
       "      <th></th>\n",
       "      <th></th>\n",
       "      <th></th>\n",
       "      <th></th>\n",
       "    </tr>\n",
       "  </thead>\n",
       "  <tbody>\n",
       "    <tr>\n",
       "      <th>2018-12-07 09:05:02</th>\n",
       "      <td>/</td>\n",
       "      <td>11</td>\n",
       "      <td>28</td>\n",
       "      <td>97.105.19.58</td>\n",
       "      <td>Friday</td>\n",
       "      <td>0.29646</td>\n",
       "    </tr>\n",
       "    <tr>\n",
       "      <th>2018-12-07 09:05:05</th>\n",
       "      <td>javascript-i</td>\n",
       "      <td>11</td>\n",
       "      <td>28</td>\n",
       "      <td>97.105.19.58</td>\n",
       "      <td>Friday</td>\n",
       "      <td>0.00000</td>\n",
       "    </tr>\n",
       "    <tr>\n",
       "      <th>2018-12-07 09:07:57</th>\n",
       "      <td>javascript-i/coffee-project</td>\n",
       "      <td>11</td>\n",
       "      <td>28</td>\n",
       "      <td>97.105.19.58</td>\n",
       "      <td>Friday</td>\n",
       "      <td>0.00000</td>\n",
       "    </tr>\n",
       "    <tr>\n",
       "      <th>2018-12-07 14:55:06</th>\n",
       "      <td>/</td>\n",
       "      <td>11</td>\n",
       "      <td>28</td>\n",
       "      <td>97.105.19.58</td>\n",
       "      <td>Friday</td>\n",
       "      <td>0.29646</td>\n",
       "    </tr>\n",
       "    <tr>\n",
       "      <th>2018-12-07 14:55:11</th>\n",
       "      <td>java-ii</td>\n",
       "      <td>11</td>\n",
       "      <td>28</td>\n",
       "      <td>97.105.19.58</td>\n",
       "      <td>Friday</td>\n",
       "      <td>0.00000</td>\n",
       "    </tr>\n",
       "  </tbody>\n",
       "</table>\n",
       "</div>"
      ],
      "text/plain": [
       "                                     page_viewed  user_id  cohort_id  \\\n",
       "date                                                                   \n",
       "2018-12-07 09:05:02                            /       11         28   \n",
       "2018-12-07 09:05:05                 javascript-i       11         28   \n",
       "2018-12-07 09:07:57  javascript-i/coffee-project       11         28   \n",
       "2018-12-07 14:55:06                            /       11         28   \n",
       "2018-12-07 14:55:11                      java-ii       11         28   \n",
       "\n",
       "                               ip     day  page_viewed_proba  \n",
       "date                                                          \n",
       "2018-12-07 09:05:02  97.105.19.58  Friday            0.29646  \n",
       "2018-12-07 09:05:05  97.105.19.58  Friday            0.00000  \n",
       "2018-12-07 09:07:57  97.105.19.58  Friday            0.00000  \n",
       "2018-12-07 14:55:06  97.105.19.58  Friday            0.29646  \n",
       "2018-12-07 14:55:11  97.105.19.58  Friday            0.00000  "
      ]
     },
     "execution_count": 72,
     "metadata": {},
     "output_type": "execute_result"
    }
   ],
   "source": [
    "newer_df.head()"
   ]
  },
  {
   "cell_type": "code",
   "execution_count": 74,
   "metadata": {},
   "outputs": [],
   "source": [
    "page_probs = newer_df.groupby('page_viewed').size().div(len(newer_df))\n",
    "\n",
    "day_given_page = pd.DataFrame(newer_df.groupby(['page_viewed', 'day']).\\\n",
    "                               size().div(len(newer_df)).\\\n",
    "                               div(page_probs, \n",
    "                                   axis=0, \n",
    "                                   level='page_viewed').\\\n",
    "                               reset_index().\\\n",
    "                               rename(index=str, \n",
    "                                      columns={0: 'proba_day_given_page_viewed'})\n",
    "                              )"
   ]
  },
  {
   "cell_type": "code",
   "execution_count": 75,
   "metadata": {},
   "outputs": [],
   "source": [
    "page_day_count = pd.DataFrame(newer_df.groupby(['page_viewed', 'day'])['ip'].\\\n",
    "                                count().reset_index().\\\n",
    "                                rename(index=str, \n",
    "                                       columns={'ip': 'page_day_count'}))\n",
    "\n",
    "\n",
    "page_day = day_given_page.merge(page_day_count)"
   ]
  },
  {
   "cell_type": "code",
   "execution_count": 76,
   "metadata": {},
   "outputs": [],
   "source": [
    "newer_df = newer_df.reset_index().merge(page_day, on=['page_viewed', 'day'], how='left').fillna(value=0).set_index('date')\n"
   ]
  },
  {
   "cell_type": "code",
   "execution_count": 77,
   "metadata": {},
   "outputs": [
    {
     "data": {
      "text/html": [
       "<div>\n",
       "<style scoped>\n",
       "    .dataframe tbody tr th:only-of-type {\n",
       "        vertical-align: middle;\n",
       "    }\n",
       "\n",
       "    .dataframe tbody tr th {\n",
       "        vertical-align: top;\n",
       "    }\n",
       "\n",
       "    .dataframe thead th {\n",
       "        text-align: right;\n",
       "    }\n",
       "</style>\n",
       "<table border=\"1\" class=\"dataframe\">\n",
       "  <thead>\n",
       "    <tr style=\"text-align: right;\">\n",
       "      <th></th>\n",
       "      <th>page_viewed</th>\n",
       "      <th>user_id</th>\n",
       "      <th>cohort_id</th>\n",
       "      <th>ip</th>\n",
       "      <th>day</th>\n",
       "      <th>page_viewed_proba</th>\n",
       "      <th>proba_day_given_page_viewed</th>\n",
       "      <th>page_day_count</th>\n",
       "    </tr>\n",
       "    <tr>\n",
       "      <th>date</th>\n",
       "      <th></th>\n",
       "      <th></th>\n",
       "      <th></th>\n",
       "      <th></th>\n",
       "      <th></th>\n",
       "      <th></th>\n",
       "      <th></th>\n",
       "      <th></th>\n",
       "    </tr>\n",
       "  </thead>\n",
       "  <tbody>\n",
       "    <tr>\n",
       "      <th>2018-12-07 09:05:02</th>\n",
       "      <td>/</td>\n",
       "      <td>11</td>\n",
       "      <td>28</td>\n",
       "      <td>97.105.19.58</td>\n",
       "      <td>Friday</td>\n",
       "      <td>0.29646</td>\n",
       "      <td>0.175753</td>\n",
       "      <td>216</td>\n",
       "    </tr>\n",
       "    <tr>\n",
       "      <th>2018-12-07 09:05:05</th>\n",
       "      <td>javascript-i</td>\n",
       "      <td>11</td>\n",
       "      <td>28</td>\n",
       "      <td>97.105.19.58</td>\n",
       "      <td>Friday</td>\n",
       "      <td>0.00000</td>\n",
       "      <td>0.162791</td>\n",
       "      <td>14</td>\n",
       "    </tr>\n",
       "    <tr>\n",
       "      <th>2018-12-07 09:07:57</th>\n",
       "      <td>javascript-i/coffee-project</td>\n",
       "      <td>11</td>\n",
       "      <td>28</td>\n",
       "      <td>97.105.19.58</td>\n",
       "      <td>Friday</td>\n",
       "      <td>0.00000</td>\n",
       "      <td>0.300000</td>\n",
       "      <td>3</td>\n",
       "    </tr>\n",
       "    <tr>\n",
       "      <th>2018-12-07 14:55:06</th>\n",
       "      <td>/</td>\n",
       "      <td>11</td>\n",
       "      <td>28</td>\n",
       "      <td>97.105.19.58</td>\n",
       "      <td>Friday</td>\n",
       "      <td>0.29646</td>\n",
       "      <td>0.175753</td>\n",
       "      <td>216</td>\n",
       "    </tr>\n",
       "    <tr>\n",
       "      <th>2018-12-07 14:55:11</th>\n",
       "      <td>java-ii</td>\n",
       "      <td>11</td>\n",
       "      <td>28</td>\n",
       "      <td>97.105.19.58</td>\n",
       "      <td>Friday</td>\n",
       "      <td>0.00000</td>\n",
       "      <td>0.261905</td>\n",
       "      <td>11</td>\n",
       "    </tr>\n",
       "  </tbody>\n",
       "</table>\n",
       "</div>"
      ],
      "text/plain": [
       "                                     page_viewed  user_id  cohort_id  \\\n",
       "date                                                                   \n",
       "2018-12-07 09:05:02                            /       11         28   \n",
       "2018-12-07 09:05:05                 javascript-i       11         28   \n",
       "2018-12-07 09:07:57  javascript-i/coffee-project       11         28   \n",
       "2018-12-07 14:55:06                            /       11         28   \n",
       "2018-12-07 14:55:11                      java-ii       11         28   \n",
       "\n",
       "                               ip     day  page_viewed_proba  \\\n",
       "date                                                           \n",
       "2018-12-07 09:05:02  97.105.19.58  Friday            0.29646   \n",
       "2018-12-07 09:05:05  97.105.19.58  Friday            0.00000   \n",
       "2018-12-07 09:07:57  97.105.19.58  Friday            0.00000   \n",
       "2018-12-07 14:55:06  97.105.19.58  Friday            0.29646   \n",
       "2018-12-07 14:55:11  97.105.19.58  Friday            0.00000   \n",
       "\n",
       "                     proba_day_given_page_viewed  page_day_count  \n",
       "date                                                              \n",
       "2018-12-07 09:05:02                     0.175753             216  \n",
       "2018-12-07 09:05:05                     0.162791              14  \n",
       "2018-12-07 09:07:57                     0.300000               3  \n",
       "2018-12-07 14:55:06                     0.175753             216  \n",
       "2018-12-07 14:55:11                     0.261905              11  "
      ]
     },
     "execution_count": 77,
     "metadata": {},
     "output_type": "execute_result"
    }
   ],
   "source": [
    "newer_df.head()"
   ]
  },
  {
   "cell_type": "code",
   "execution_count": 78,
   "metadata": {},
   "outputs": [
    {
     "data": {
      "text/plain": [
       "1.000000    357\n",
       "0.250000    276\n",
       "0.500000    270\n",
       "0.209927    258\n",
       "0.188771    232\n",
       "           ... \n",
       "0.022222      1\n",
       "0.009804      1\n",
       "0.026316      1\n",
       "0.017857      1\n",
       "0.014706      1\n",
       "Name: proba_day_given_page_viewed, Length: 381, dtype: int64"
      ]
     },
     "execution_count": 78,
     "metadata": {},
     "output_type": "execute_result"
    }
   ],
   "source": [
    "newer_df['proba_day_given_page_viewed'].value_counts()"
   ]
  },
  {
   "cell_type": "code",
   "execution_count": 79,
   "metadata": {},
   "outputs": [
    {
     "data": {
      "text/html": [
       "<div>\n",
       "<style scoped>\n",
       "    .dataframe tbody tr th:only-of-type {\n",
       "        vertical-align: middle;\n",
       "    }\n",
       "\n",
       "    .dataframe tbody tr th {\n",
       "        vertical-align: top;\n",
       "    }\n",
       "\n",
       "    .dataframe thead th {\n",
       "        text-align: right;\n",
       "    }\n",
       "</style>\n",
       "<table border=\"1\" class=\"dataframe\">\n",
       "  <thead>\n",
       "    <tr style=\"text-align: right;\">\n",
       "      <th></th>\n",
       "      <th>page_viewed</th>\n",
       "      <th>user_id</th>\n",
       "      <th>cohort_id</th>\n",
       "      <th>ip</th>\n",
       "      <th>day</th>\n",
       "      <th>page_viewed_proba</th>\n",
       "      <th>proba_day_given_page_viewed</th>\n",
       "      <th>page_day_count</th>\n",
       "    </tr>\n",
       "    <tr>\n",
       "      <th>date</th>\n",
       "      <th></th>\n",
       "      <th></th>\n",
       "      <th></th>\n",
       "      <th></th>\n",
       "      <th></th>\n",
       "      <th></th>\n",
       "      <th></th>\n",
       "      <th></th>\n",
       "    </tr>\n",
       "  </thead>\n",
       "  <tbody>\n",
       "    <tr>\n",
       "      <th>2018-12-07 09:05:02</th>\n",
       "      <td>/</td>\n",
       "      <td>11</td>\n",
       "      <td>28</td>\n",
       "      <td>97.105.19.58</td>\n",
       "      <td>Friday</td>\n",
       "      <td>0.29646</td>\n",
       "      <td>0.175753</td>\n",
       "      <td>216</td>\n",
       "    </tr>\n",
       "    <tr>\n",
       "      <th>2018-12-07 09:05:05</th>\n",
       "      <td>javascript-i</td>\n",
       "      <td>11</td>\n",
       "      <td>28</td>\n",
       "      <td>97.105.19.58</td>\n",
       "      <td>Friday</td>\n",
       "      <td>0.00000</td>\n",
       "      <td>0.162791</td>\n",
       "      <td>14</td>\n",
       "    </tr>\n",
       "    <tr>\n",
       "      <th>2018-12-07 09:07:57</th>\n",
       "      <td>javascript-i/coffee-project</td>\n",
       "      <td>11</td>\n",
       "      <td>28</td>\n",
       "      <td>97.105.19.58</td>\n",
       "      <td>Friday</td>\n",
       "      <td>0.00000</td>\n",
       "      <td>0.300000</td>\n",
       "      <td>3</td>\n",
       "    </tr>\n",
       "    <tr>\n",
       "      <th>2018-12-07 14:55:06</th>\n",
       "      <td>/</td>\n",
       "      <td>11</td>\n",
       "      <td>28</td>\n",
       "      <td>97.105.19.58</td>\n",
       "      <td>Friday</td>\n",
       "      <td>0.29646</td>\n",
       "      <td>0.175753</td>\n",
       "      <td>216</td>\n",
       "    </tr>\n",
       "    <tr>\n",
       "      <th>2018-12-07 14:55:11</th>\n",
       "      <td>java-ii</td>\n",
       "      <td>11</td>\n",
       "      <td>28</td>\n",
       "      <td>97.105.19.58</td>\n",
       "      <td>Friday</td>\n",
       "      <td>0.00000</td>\n",
       "      <td>0.261905</td>\n",
       "      <td>11</td>\n",
       "    </tr>\n",
       "  </tbody>\n",
       "</table>\n",
       "</div>"
      ],
      "text/plain": [
       "                                     page_viewed  user_id  cohort_id  \\\n",
       "date                                                                   \n",
       "2018-12-07 09:05:02                            /       11         28   \n",
       "2018-12-07 09:05:05                 javascript-i       11         28   \n",
       "2018-12-07 09:07:57  javascript-i/coffee-project       11         28   \n",
       "2018-12-07 14:55:06                            /       11         28   \n",
       "2018-12-07 14:55:11                      java-ii       11         28   \n",
       "\n",
       "                               ip     day  page_viewed_proba  \\\n",
       "date                                                           \n",
       "2018-12-07 09:05:02  97.105.19.58  Friday            0.29646   \n",
       "2018-12-07 09:05:05  97.105.19.58  Friday            0.00000   \n",
       "2018-12-07 09:07:57  97.105.19.58  Friday            0.00000   \n",
       "2018-12-07 14:55:06  97.105.19.58  Friday            0.29646   \n",
       "2018-12-07 14:55:11  97.105.19.58  Friday            0.00000   \n",
       "\n",
       "                     proba_day_given_page_viewed  page_day_count  \n",
       "date                                                              \n",
       "2018-12-07 09:05:02                     0.175753             216  \n",
       "2018-12-07 09:05:05                     0.162791              14  \n",
       "2018-12-07 09:07:57                     0.300000               3  \n",
       "2018-12-07 14:55:06                     0.175753             216  \n",
       "2018-12-07 14:55:11                     0.261905              11  "
      ]
     },
     "execution_count": 79,
     "metadata": {},
     "output_type": "execute_result"
    }
   ],
   "source": [
    "newer_df.head()"
   ]
  },
  {
   "cell_type": "code",
   "execution_count": 80,
   "metadata": {},
   "outputs": [
    {
     "data": {
      "text/plain": [
       "Monday       2695\n",
       "Tuesday      2581\n",
       "Wednesday    2511\n",
       "Thursday     2122\n",
       "Friday       1663\n",
       "Sunday        372\n",
       "Saturday      191\n",
       "Name: day, dtype: int64"
      ]
     },
     "execution_count": 80,
     "metadata": {},
     "output_type": "execute_result"
    }
   ],
   "source": [
    "newer_df.day.value_counts()"
   ]
  },
  {
   "cell_type": "code",
   "execution_count": 81,
   "metadata": {},
   "outputs": [],
   "source": [
    "ndf = newer_df[['page_viewed_proba']]"
   ]
  },
  {
   "cell_type": "code",
   "execution_count": 82,
   "metadata": {},
   "outputs": [
    {
     "data": {
      "text/plain": [
       "<AxesSubplot:xlabel='date'>"
      ]
     },
     "execution_count": 82,
     "metadata": {},
     "output_type": "execute_result"
    },
    {
     "data": {
      "image/png": "[encoded data removed]",
      "text/plain": [
       "<Figure size 432x288 with 1 Axes>"
      ]
     },
     "metadata": {
      "needs_background": "light"
     },
     "output_type": "display_data"
    }
   ],
   "source": [
    "ndf.resample('M').mean().plot()\n"
   ]
  },
  {
   "cell_type": "code",
   "execution_count": 83,
   "metadata": {},
   "outputs": [
    {
     "data": {
      "text/html": [
       "<div>\n",
       "<style scoped>\n",
       "    .dataframe tbody tr th:only-of-type {\n",
       "        vertical-align: middle;\n",
       "    }\n",
       "\n",
       "    .dataframe tbody tr th {\n",
       "        vertical-align: top;\n",
       "    }\n",
       "\n",
       "    .dataframe thead th {\n",
       "        text-align: right;\n",
       "    }\n",
       "</style>\n",
       "<table border=\"1\" class=\"dataframe\">\n",
       "  <thead>\n",
       "    <tr style=\"text-align: right;\">\n",
       "      <th></th>\n",
       "      <th>page_viewed</th>\n",
       "      <th>user_id</th>\n",
       "      <th>cohort_id</th>\n",
       "      <th>ip</th>\n",
       "      <th>day</th>\n",
       "      <th>page_viewed_proba</th>\n",
       "      <th>proba_day_given_page_viewed</th>\n",
       "      <th>page_day_count</th>\n",
       "    </tr>\n",
       "    <tr>\n",
       "      <th>date</th>\n",
       "      <th></th>\n",
       "      <th></th>\n",
       "      <th></th>\n",
       "      <th></th>\n",
       "      <th></th>\n",
       "      <th></th>\n",
       "      <th></th>\n",
       "      <th></th>\n",
       "    </tr>\n",
       "  </thead>\n",
       "  <tbody>\n",
       "    <tr>\n",
       "      <th>2018-12-07 09:05:02</th>\n",
       "      <td>/</td>\n",
       "      <td>11</td>\n",
       "      <td>28</td>\n",
       "      <td>97.105.19.58</td>\n",
       "      <td>Friday</td>\n",
       "      <td>0.29646</td>\n",
       "      <td>0.175753</td>\n",
       "      <td>216</td>\n",
       "    </tr>\n",
       "    <tr>\n",
       "      <th>2018-12-07 09:05:05</th>\n",
       "      <td>javascript-i</td>\n",
       "      <td>11</td>\n",
       "      <td>28</td>\n",
       "      <td>97.105.19.58</td>\n",
       "      <td>Friday</td>\n",
       "      <td>0.00000</td>\n",
       "      <td>0.162791</td>\n",
       "      <td>14</td>\n",
       "    </tr>\n",
       "    <tr>\n",
       "      <th>2018-12-07 09:07:57</th>\n",
       "      <td>javascript-i/coffee-project</td>\n",
       "      <td>11</td>\n",
       "      <td>28</td>\n",
       "      <td>97.105.19.58</td>\n",
       "      <td>Friday</td>\n",
       "      <td>0.00000</td>\n",
       "      <td>0.300000</td>\n",
       "      <td>3</td>\n",
       "    </tr>\n",
       "    <tr>\n",
       "      <th>2018-12-07 14:55:06</th>\n",
       "      <td>/</td>\n",
       "      <td>11</td>\n",
       "      <td>28</td>\n",
       "      <td>97.105.19.58</td>\n",
       "      <td>Friday</td>\n",
       "      <td>0.29646</td>\n",
       "      <td>0.175753</td>\n",
       "      <td>216</td>\n",
       "    </tr>\n",
       "    <tr>\n",
       "      <th>2018-12-07 14:55:11</th>\n",
       "      <td>java-ii</td>\n",
       "      <td>11</td>\n",
       "      <td>28</td>\n",
       "      <td>97.105.19.58</td>\n",
       "      <td>Friday</td>\n",
       "      <td>0.00000</td>\n",
       "      <td>0.261905</td>\n",
       "      <td>11</td>\n",
       "    </tr>\n",
       "  </tbody>\n",
       "</table>\n",
       "</div>"
      ],
      "text/plain": [
       "                                     page_viewed  user_id  cohort_id  \\\n",
       "date                                                                   \n",
       "2018-12-07 09:05:02                            /       11         28   \n",
       "2018-12-07 09:05:05                 javascript-i       11         28   \n",
       "2018-12-07 09:07:57  javascript-i/coffee-project       11         28   \n",
       "2018-12-07 14:55:06                            /       11         28   \n",
       "2018-12-07 14:55:11                      java-ii       11         28   \n",
       "\n",
       "                               ip     day  page_viewed_proba  \\\n",
       "date                                                           \n",
       "2018-12-07 09:05:02  97.105.19.58  Friday            0.29646   \n",
       "2018-12-07 09:05:05  97.105.19.58  Friday            0.00000   \n",
       "2018-12-07 09:07:57  97.105.19.58  Friday            0.00000   \n",
       "2018-12-07 14:55:06  97.105.19.58  Friday            0.29646   \n",
       "2018-12-07 14:55:11  97.105.19.58  Friday            0.00000   \n",
       "\n",
       "                     proba_day_given_page_viewed  page_day_count  \n",
       "date                                                              \n",
       "2018-12-07 09:05:02                     0.175753             216  \n",
       "2018-12-07 09:05:05                     0.162791              14  \n",
       "2018-12-07 09:07:57                     0.300000               3  \n",
       "2018-12-07 14:55:06                     0.175753             216  \n",
       "2018-12-07 14:55:11                     0.261905              11  "
      ]
     },
     "execution_count": 83,
     "metadata": {},
     "output_type": "execute_result"
    }
   ],
   "source": [
    "newer_df.head()"
   ]
  },
  {
   "cell_type": "code",
   "execution_count": 84,
   "metadata": {},
   "outputs": [],
   "source": [
    "count = newer_df.resample('2W').page_viewed.agg('count')"
   ]
  },
  {
   "cell_type": "code",
   "execution_count": 85,
   "metadata": {},
   "outputs": [],
   "source": [
    "count = count.fillna(value=0)\n"
   ]
  },
  {
   "cell_type": "code",
   "execution_count": 86,
   "metadata": {},
   "outputs": [],
   "source": [
    "count = pd.DataFrame(count)"
   ]
  },
  {
   "cell_type": "code",
   "execution_count": 87,
   "metadata": {},
   "outputs": [
    {
     "data": {
      "text/html": [
       "<div>\n",
       "<style scoped>\n",
       "    .dataframe tbody tr th:only-of-type {\n",
       "        vertical-align: middle;\n",
       "    }\n",
       "\n",
       "    .dataframe tbody tr th {\n",
       "        vertical-align: top;\n",
       "    }\n",
       "\n",
       "    .dataframe thead th {\n",
       "        text-align: right;\n",
       "    }\n",
       "</style>\n",
       "<table border=\"1\" class=\"dataframe\">\n",
       "  <thead>\n",
       "    <tr style=\"text-align: right;\">\n",
       "      <th></th>\n",
       "      <th>page_viewed</th>\n",
       "    </tr>\n",
       "    <tr>\n",
       "      <th>date</th>\n",
       "      <th></th>\n",
       "    </tr>\n",
       "  </thead>\n",
       "  <tbody>\n",
       "    <tr>\n",
       "      <th>2018-12-09</th>\n",
       "      <td>9</td>\n",
       "    </tr>\n",
       "    <tr>\n",
       "      <th>2018-12-23</th>\n",
       "      <td>133</td>\n",
       "    </tr>\n",
       "    <tr>\n",
       "      <th>2019-01-06</th>\n",
       "      <td>5</td>\n",
       "    </tr>\n",
       "    <tr>\n",
       "      <th>2019-01-20</th>\n",
       "      <td>175</td>\n",
       "    </tr>\n",
       "    <tr>\n",
       "      <th>2019-02-03</th>\n",
       "      <td>333</td>\n",
       "    </tr>\n",
       "  </tbody>\n",
       "</table>\n",
       "</div>"
      ],
      "text/plain": [
       "            page_viewed\n",
       "date                   \n",
       "2018-12-09            9\n",
       "2018-12-23          133\n",
       "2019-01-06            5\n",
       "2019-01-20          175\n",
       "2019-02-03          333"
      ]
     },
     "execution_count": 87,
     "metadata": {},
     "output_type": "execute_result"
    }
   ],
   "source": [
    "count.head()"
   ]
  },
  {
   "cell_type": "code",
   "execution_count": 88,
   "metadata": {},
   "outputs": [],
   "source": [
    "# get mean and standard deviation for randomly generating some data. \n",
    "mean = count['page_viewed'].mean()\n",
    "std = count['page_viewed'].std()"
   ]
  },
  {
   "cell_type": "code",
   "execution_count": 90,
   "metadata": {},
   "outputs": [
    {
     "data": {
      "text/plain": [
       "(array([ 5.,  7., 11., 11.,  8.,  6.,  0.,  0.,  2.,  1.]),\n",
       " array([  5.,  74., 143., 212., 281., 350., 419., 488., 557., 626., 695.]),\n",
       " <BarContainer object of 10 artists>)"
      ]
     },
     "execution_count": 90,
     "metadata": {},
     "output_type": "execute_result"
    },
    {
     "data": {
      "image/png": "[encoded data removed]",
      "text/plain": [
       "<Figure size 432x288 with 1 Axes>"
      ]
     },
     "metadata": {
      "needs_background": "light"
     },
     "output_type": "display_data"
    }
   ],
   "source": [
    "plt.hist(count)"
   ]
  },
  {
   "cell_type": "code",
   "execution_count": 91,
   "metadata": {},
   "outputs": [
    {
     "data": {
      "text/plain": [
       "2019-02-03    1\n",
       "2020-07-19    1\n",
       "2019-11-24    1\n",
       "2020-01-05    1\n",
       "2020-08-16    1\n",
       "2020-04-12    1\n",
       "2019-09-29    1\n",
       "2019-01-20    1\n",
       "2020-09-27    1\n",
       "2019-04-28    1\n",
       "2020-05-24    1\n",
       "2019-12-08    1\n",
       "2019-03-03    1\n",
       "2019-08-18    1\n",
       "2019-06-09    1\n",
       "2020-03-15    1\n",
       "2019-07-21    1\n",
       "2018-12-23    1\n",
       "2020-07-05    1\n",
       "2020-11-08    1\n",
       "2019-09-01    1\n",
       "2020-08-30    1\n",
       "2019-03-31    1\n",
       "2018-12-09    1\n",
       "2020-02-02    1\n",
       "2020-10-25    1\n",
       "2020-06-21    1\n",
       "2019-11-10    1\n",
       "2019-05-12    1\n",
       "2020-06-07    1\n",
       "2019-03-17    1\n",
       "2020-02-16    1\n",
       "2020-08-02    1\n",
       "2019-06-23    1\n",
       "2020-03-29    1\n",
       "2020-10-11    1\n",
       "2019-08-04    1\n",
       "2020-01-19    1\n",
       "2019-10-13    1\n",
       "2019-07-07    1\n",
       "2020-09-13    1\n",
       "2019-09-15    1\n",
       "2019-12-22    1\n",
       "2019-01-06    1\n",
       "2019-04-14    1\n",
       "2020-05-10    1\n",
       "2019-02-17    1\n",
       "2019-10-27    1\n",
       "2020-04-26    1\n",
       "2019-05-26    1\n",
       "2020-03-01    1\n",
       "Name: date, dtype: int64"
      ]
     },
     "execution_count": 91,
     "metadata": {},
     "output_type": "execute_result"
    }
   ],
   "source": [
    "count.index.value_counts()"
   ]
  },
  {
   "cell_type": "code",
   "execution_count": 92,
   "metadata": {},
   "outputs": [],
   "source": [
    "train = count[:'2020-06-21']\n",
    "validate = count['2020-07-05':'2020-08-30']\n",
    "test = count['2020-09-13':]"
   ]
  },
  {
   "cell_type": "code",
   "execution_count": 93,
   "metadata": {},
   "outputs": [
    {
     "data": {
      "text/plain": [
       "((41, 1), (5, 1), (5, 1))"
      ]
     },
     "execution_count": 93,
     "metadata": {},
     "output_type": "execute_result"
    }
   ],
   "source": [
    "train.shape, validate.shape, test.shape"
   ]
  },
  {
   "cell_type": "code",
   "execution_count": 94,
   "metadata": {},
   "outputs": [
    {
     "data": {
      "image/png": "[encoded data removed]",
      "text/plain": [
       "<Figure size 864x576 with 1 Axes>"
      ]
     },
     "metadata": {
      "needs_background": "light"
     },
     "output_type": "display_data"
    }
   ],
   "source": [
    "plt.figure(figsize=(12, 8))\n",
    "plt.plot(train)\n",
    "plt.plot(validate)\n",
    "plt.plot(test)\n",
    "plt.show()"
   ]
  },
  {
   "cell_type": "markdown",
   "metadata": {},
   "source": [
    "# Simple Moving Average"
   ]
  },
  {
   "cell_type": "code",
   "execution_count": 95,
   "metadata": {},
   "outputs": [
    {
     "data": {
      "text/html": [
       "<div>\n",
       "<style scoped>\n",
       "    .dataframe tbody tr th:only-of-type {\n",
       "        vertical-align: middle;\n",
       "    }\n",
       "\n",
       "    .dataframe tbody tr th {\n",
       "        vertical-align: top;\n",
       "    }\n",
       "\n",
       "    .dataframe thead th {\n",
       "        text-align: right;\n",
       "    }\n",
       "</style>\n",
       "<table border=\"1\" class=\"dataframe\">\n",
       "  <thead>\n",
       "    <tr style=\"text-align: right;\">\n",
       "      <th></th>\n",
       "      <th>page_viewed</th>\n",
       "    </tr>\n",
       "    <tr>\n",
       "      <th>date</th>\n",
       "      <th></th>\n",
       "    </tr>\n",
       "  </thead>\n",
       "  <tbody>\n",
       "    <tr>\n",
       "      <th>2018-12-09</th>\n",
       "      <td>NaN</td>\n",
       "    </tr>\n",
       "    <tr>\n",
       "      <th>2018-12-23</th>\n",
       "      <td>NaN</td>\n",
       "    </tr>\n",
       "    <tr>\n",
       "      <th>2019-01-06</th>\n",
       "      <td>NaN</td>\n",
       "    </tr>\n",
       "    <tr>\n",
       "      <th>2019-01-20</th>\n",
       "      <td>NaN</td>\n",
       "    </tr>\n",
       "    <tr>\n",
       "      <th>2019-02-03</th>\n",
       "      <td>NaN</td>\n",
       "    </tr>\n",
       "    <tr>\n",
       "      <th>2019-02-17</th>\n",
       "      <td>NaN</td>\n",
       "    </tr>\n",
       "    <tr>\n",
       "      <th>2019-03-03</th>\n",
       "      <td>165.857143</td>\n",
       "    </tr>\n",
       "    <tr>\n",
       "      <th>2019-03-17</th>\n",
       "      <td>191.285714</td>\n",
       "    </tr>\n",
       "    <tr>\n",
       "      <th>2019-03-31</th>\n",
       "      <td>197.000000</td>\n",
       "    </tr>\n",
       "    <tr>\n",
       "      <th>2019-04-14</th>\n",
       "      <td>207.285714</td>\n",
       "    </tr>\n",
       "  </tbody>\n",
       "</table>\n",
       "</div>"
      ],
      "text/plain": [
       "            page_viewed\n",
       "date                   \n",
       "2018-12-09          NaN\n",
       "2018-12-23          NaN\n",
       "2019-01-06          NaN\n",
       "2019-01-20          NaN\n",
       "2019-02-03          NaN\n",
       "2019-02-17          NaN\n",
       "2019-03-03   165.857143\n",
       "2019-03-17   191.285714\n",
       "2019-03-31   197.000000\n",
       "2019-04-14   207.285714"
      ]
     },
     "execution_count": 95,
     "metadata": {},
     "output_type": "execute_result"
    }
   ],
   "source": [
    "# 1 week\n",
    "sma_short = train.rolling(window=7).mean()\n",
    "sma_short[:10]"
   ]
  },
  {
   "cell_type": "code",
   "execution_count": 96,
   "metadata": {},
   "outputs": [
    {
     "data": {
      "text/html": [
       "<div>\n",
       "<style scoped>\n",
       "    .dataframe tbody tr th:only-of-type {\n",
       "        vertical-align: middle;\n",
       "    }\n",
       "\n",
       "    .dataframe tbody tr th {\n",
       "        vertical-align: top;\n",
       "    }\n",
       "\n",
       "    .dataframe thead th {\n",
       "        text-align: right;\n",
       "    }\n",
       "</style>\n",
       "<table border=\"1\" class=\"dataframe\">\n",
       "  <thead>\n",
       "    <tr style=\"text-align: right;\">\n",
       "      <th></th>\n",
       "      <th>page_viewed</th>\n",
       "    </tr>\n",
       "    <tr>\n",
       "      <th>date</th>\n",
       "      <th></th>\n",
       "    </tr>\n",
       "  </thead>\n",
       "  <tbody>\n",
       "    <tr>\n",
       "      <th>2019-12-22</th>\n",
       "      <td>NaN</td>\n",
       "    </tr>\n",
       "    <tr>\n",
       "      <th>2020-01-05</th>\n",
       "      <td>NaN</td>\n",
       "    </tr>\n",
       "    <tr>\n",
       "      <th>2020-01-19</th>\n",
       "      <td>198.900000</td>\n",
       "    </tr>\n",
       "    <tr>\n",
       "      <th>2020-02-02</th>\n",
       "      <td>203.600000</td>\n",
       "    </tr>\n",
       "    <tr>\n",
       "      <th>2020-02-16</th>\n",
       "      <td>211.666667</td>\n",
       "    </tr>\n",
       "    <tr>\n",
       "      <th>2020-03-01</th>\n",
       "      <td>219.466667</td>\n",
       "    </tr>\n",
       "  </tbody>\n",
       "</table>\n",
       "</div>"
      ],
      "text/plain": [
       "            page_viewed\n",
       "date                   \n",
       "2019-12-22          NaN\n",
       "2020-01-05          NaN\n",
       "2020-01-19   198.900000\n",
       "2020-02-02   203.600000\n",
       "2020-02-16   211.666667\n",
       "2020-03-01   219.466667"
      ]
     },
     "execution_count": 96,
     "metadata": {},
     "output_type": "execute_result"
    }
   ],
   "source": [
    "sma_long = train.rolling(window=30).mean()\n",
    "sma_long[27:33]"
   ]
  },
  {
   "cell_type": "code",
   "execution_count": 97,
   "metadata": {},
   "outputs": [
    {
     "data": {
      "text/plain": [
       "Text(0, 0.5, 'Size (MB)')"
      ]
     },
     "execution_count": 97,
     "metadata": {},
     "output_type": "execute_result"
    },
    {
     "data": {
      "image/png": "[encoded data removed]",
      "text/plain": [
       "<Figure size 864x576 with 1 Axes>"
      ]
     },
     "metadata": {
      "needs_background": "light"
     },
     "output_type": "display_data"
    }
   ],
   "source": [
    "fig, ax = plt.subplots(figsize=(12,8))\n",
    "\n",
    "ax.plot(train.index, train, label='Size (MB)')\n",
    "\n",
    "ax.plot(train.index, sma_short, label = '7-day SMA')\n",
    "\n",
    "ax.plot(train.index, sma_long, label = '30-day SMA')\n",
    "\n",
    "ax.legend(loc='best')\n",
    "ax.set_ylabel('Size (MB)')\n",
    "# ax.xaxis.(rotate=90)\n",
    "# ax.xaxis.set_major_formatter(my_datetime_fmt)"
   ]
  },
  {
   "cell_type": "markdown",
   "metadata": {},
   "source": [
    "# Exponential Moving Average"
   ]
  },
  {
   "cell_type": "code",
   "execution_count": null,
   "metadata": {},
   "outputs": [],
   "source": []
  }
 ],
 "metadata": {
  "kernelspec": {
   "display_name": "Python 3",
   "language": "python",
   "name": "python3"
  },
  "language_info": {
   "codemirror_mode": {
    "name": "ipython",
    "version": 3
   },
   "file_extension": ".py",
   "mimetype": "text/x-python",
   "name": "python",
   "nbconvert_exporter": "python",
   "pygments_lexer": "ipython3",
   "version": "3.7.9"
  }
 },
 "nbformat": 4,
 "nbformat_minor": 4
}
